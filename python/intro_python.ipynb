{
 "cells": [
  {
   "cell_type": "markdown",
   "metadata": {},
   "source": [
    "# Introducción a Python\n",
    "\n",
    "## Orientación a objetos\n",
    "\n",
    "Python está orientado a objetos.\n",
    "\n",
    "* Objetos: abstracción de datos. Se caracterizan por tener:\n",
    "   * Atributos o propiedades\n",
    "   * Métodos (lo que pueden hacer)\n",
    "* Cada objeto Python tiene\n",
    "   * Identidad o ID: `id(objeto)`. <u>Identificador único que nunca cambia</u> tras crearse el objeto\n",
    "   * Tipo: `type(a)`. Determina qué <u>valores y operaciones son admisibles</u>. Nunca cambia\n",
    "   * Valor. Una vez creado el objeto, su valor sólo puede cambiar si es **mutable**. Muchos objetos son **inmutables**.\n",
    "* **Nombre**: refieren objetos mediante una operación o estamento que los vincula. Es una abstracción semejante a la de *variable* en otros lenguajes. **No confundir el nombre con el objeto**.\n",
    "  * `del` elimina el vínculo entre el nombre y el objeto"
   ]
  },
  {
   "cell_type": "markdown",
   "metadata": {},
   "source": [
    "**En Python TODO es un objeto** con las características ya vistas: números, cadenas (strings), contenedores, funciones, módulos...\n",
    "\n",
    "Los objetos definidos por el usuario son, por lo general, mutables, salvo que expresamente se programaen para que no lo sean.\n",
    "\n",
    "Las **clases** son abstracciones de objetos, de modo que **cada objeto es una instancia de una clase**. A su vez, las clases sob objetos, dando lugar a **metaclases** y a características avanzadas de Python que no vamos a tratar aquí.\n",
    "\n",
    "Toda clase tiene modelos (recordar que es una abstracción) de propiedades o atributos, y de métodos, que se concretarán en cada instancia de objeto. Atributos y métodos son accesibles mediante el operador `.`. El método `__init__`debe existir siempre para inicializar los objetos de la clase, y se llama parea cada nueva instancia. \n",
    "\n",
    "* *Métodos mágicos*: comienzan y terminan con `__` y tienen funciones especiales. Deben evitarse en nombres definidos por el usuario. \n",
    "\n",
    "Pueden derivarse nuevas clases que heredan propiedades y métodos de sus antecesoras, gracias a la *herencia*."
   ]
  },
  {
   "cell_type": "code",
   "execution_count": 1,
   "metadata": {},
   "outputs": [
    {
     "data": {
      "text/plain": [
       "['In',\n",
       " 'Out',\n",
       " '_',\n",
       " '__',\n",
       " '___',\n",
       " '__builtin__',\n",
       " '__builtins__',\n",
       " '__doc__',\n",
       " '__loader__',\n",
       " '__name__',\n",
       " '__package__',\n",
       " '__spec__',\n",
       " '_dh',\n",
       " '_i',\n",
       " '_i1',\n",
       " '_ih',\n",
       " '_ii',\n",
       " '_iii',\n",
       " '_oh',\n",
       " 'exit',\n",
       " 'get_ipython',\n",
       " 'quit']"
      ]
     },
     "execution_count": 1,
     "metadata": {},
     "output_type": "execute_result"
    }
   ],
   "source": [
    "dir() # nombres definidos al inicio (no se incluyen bult-ins)"
   ]
  },
  {
   "cell_type": "code",
   "execution_count": 2,
   "metadata": {},
   "outputs": [
    {
     "name": "stdout",
     "output_type": "stream",
     "text": [
      "Interactive namespace is empty.\n"
     ]
    }
   ],
   "source": [
    "%whos"
   ]
  },
  {
   "cell_type": "code",
   "execution_count": 3,
   "metadata": {},
   "outputs": [],
   "source": [
    "class Estudiante(object):\n",
    "    def __init__(self, nombre):\n",
    "        self.nombre = nombre\n",
    "    def set_edad(self, edad):\n",
    "        self.edad = edad\n",
    "    def set_curso(self, curso):\n",
    "        self.curso = curso\n",
    "\n",
    "alum1 = Estudiante('Pepe')\n",
    "alum1.set_edad(21)\n",
    "alum1.set_curso('Tercero')"
   ]
  },
  {
   "cell_type": "code",
   "execution_count": 4,
   "metadata": {},
   "outputs": [
    {
     "data": {
      "text/plain": [
       "__main__.Estudiante"
      ]
     },
     "execution_count": 4,
     "metadata": {},
     "output_type": "execute_result"
    }
   ],
   "source": [
    "type(alum1)"
   ]
  },
  {
   "cell_type": "code",
   "execution_count": 5,
   "metadata": {},
   "outputs": [
    {
     "data": {
      "text/plain": [
       "<__main__.Estudiante at 0x1bb302a3860>"
      ]
     },
     "execution_count": 5,
     "metadata": {},
     "output_type": "execute_result"
    }
   ],
   "source": [
    "alum1"
   ]
  },
  {
   "cell_type": "code",
   "execution_count": 6,
   "metadata": {},
   "outputs": [
    {
     "name": "stdout",
     "output_type": "stream",
     "text": [
      "Pepe\n",
      "21\n",
      "Tercero\n"
     ]
    }
   ],
   "source": [
    "print(alum1.nombre)\n",
    "print(alum1.edad)\n",
    "print(alum1.curso)"
   ]
  },
  {
   "cell_type": "code",
   "execution_count": 7,
   "metadata": {},
   "outputs": [],
   "source": [
    "class EstudianteMaster(Estudiante):\n",
    "    def set_tfm(self, tfm):\n",
    "        self.trabajo_fin_master = tfm\n",
    "        \n",
    "alum2 = EstudianteMaster('Marta')\n",
    "alum2.set_edad(23)\n",
    "alum2.set_curso('Segundo')\n",
    "alum2.set_tfm('Ingeniería de datos con Python')"
   ]
  },
  {
   "cell_type": "code",
   "execution_count": 8,
   "metadata": {},
   "outputs": [
    {
     "data": {
      "text/plain": [
       "__main__.EstudianteMaster"
      ]
     },
     "execution_count": 8,
     "metadata": {},
     "output_type": "execute_result"
    }
   ],
   "source": [
    "type(alum2)"
   ]
  },
  {
   "cell_type": "code",
   "execution_count": 9,
   "metadata": {
    "scrolled": true
   },
   "outputs": [
    {
     "name": "stdout",
     "output_type": "stream",
     "text": [
      "Marta\n",
      "23\n",
      "Segundo\n",
      "Ingeniería de datos con Python\n"
     ]
    }
   ],
   "source": [
    "print(alum2.nombre)\n",
    "print(alum2.edad)\n",
    "print(alum2.curso)\n",
    "print(alum2.trabajo_fin_master)"
   ]
  },
  {
   "cell_type": "code",
   "execution_count": 10,
   "metadata": {},
   "outputs": [
    {
     "name": "stdout",
     "output_type": "stream",
     "text": [
      "id1:  1903478585440 \n",
      "id2:  1903478592400\n"
     ]
    }
   ],
   "source": [
    "print('id1: ', id(alum1), '\\nid2: ', id(alum2))"
   ]
  },
  {
   "cell_type": "code",
   "execution_count": 11,
   "metadata": {},
   "outputs": [],
   "source": [
    "alum1.nombre = 'Carlos'\n",
    "alum1.edad   = 22\n",
    "alum2.nombre = 'Lola'\n",
    "alum2.edad   = 24"
   ]
  },
  {
   "cell_type": "code",
   "execution_count": 12,
   "metadata": {},
   "outputs": [
    {
     "name": "stdout",
     "output_type": "stream",
     "text": [
      "Carlos  -  22  -  Tercero\n",
      "Lola  -  24  -  Segundo  -  Ingeniería de datos con Python\n"
     ]
    }
   ],
   "source": [
    "print(alum1.nombre, ' - ', alum1.edad, ' - ', alum1.curso)\n",
    "print(alum2.nombre, ' - ', alum2.edad, ' - ', alum2.curso , \n",
    "      ' - ', alum2.trabajo_fin_master)"
   ]
  },
  {
   "cell_type": "code",
   "execution_count": 13,
   "metadata": {},
   "outputs": [
    {
     "name": "stdout",
     "output_type": "stream",
     "text": [
      "id1:  1903478585440 \n",
      "id2:  1903478592400\n"
     ]
    }
   ],
   "source": [
    "print('id1: ', id(alum1), '\\nid2: ', id(alum2))"
   ]
  },
  {
   "cell_type": "code",
   "execution_count": 14,
   "metadata": {},
   "outputs": [
    {
     "data": {
      "text/plain": [
       "['Estudiante',\n",
       " 'EstudianteMaster',\n",
       " 'In',\n",
       " 'Out',\n",
       " '_',\n",
       " '_1',\n",
       " '_4',\n",
       " '_5',\n",
       " '_8',\n",
       " '__',\n",
       " '___',\n",
       " '__builtin__',\n",
       " '__builtins__',\n",
       " '__doc__',\n",
       " '__loader__',\n",
       " '__name__',\n",
       " '__package__',\n",
       " '__spec__',\n",
       " '_dh',\n",
       " '_i',\n",
       " '_i1',\n",
       " '_i10',\n",
       " '_i11',\n",
       " '_i12',\n",
       " '_i13',\n",
       " '_i14',\n",
       " '_i2',\n",
       " '_i3',\n",
       " '_i4',\n",
       " '_i5',\n",
       " '_i6',\n",
       " '_i7',\n",
       " '_i8',\n",
       " '_i9',\n",
       " '_ih',\n",
       " '_ii',\n",
       " '_iii',\n",
       " '_oh',\n",
       " 'alum1',\n",
       " 'alum2',\n",
       " 'exit',\n",
       " 'get_ipython',\n",
       " 'quit']"
      ]
     },
     "execution_count": 14,
     "metadata": {},
     "output_type": "execute_result"
    }
   ],
   "source": [
    "dir() # Nombres tras primeras operaciones"
   ]
  },
  {
   "cell_type": "code",
   "execution_count": 15,
   "metadata": {},
   "outputs": [
    {
     "name": "stdout",
     "output_type": "stream",
     "text": [
      "Variable           Type                Data/Info\n",
      "------------------------------------------------\n",
      "Estudiante         type                <class '__main__.Estudiante'>\n",
      "EstudianteMaster   type                <class '__main__.EstudianteMaster'>\n",
      "alum1              Estudiante          <__main__.Estudiante obje<...>ct at 0x000001BB302A3860>\n",
      "alum2              EstudianteMaster    <__main__.EstudianteMaste<...>ct at 0x000001BB302A5390>\n"
     ]
    }
   ],
   "source": [
    "%whos"
   ]
  },
  {
   "cell_type": "code",
   "execution_count": 16,
   "metadata": {},
   "outputs": [],
   "source": [
    "del alum1, alum2"
   ]
  },
  {
   "cell_type": "code",
   "execution_count": 17,
   "metadata": {},
   "outputs": [
    {
     "data": {
      "text/plain": [
       "['Estudiante',\n",
       " 'EstudianteMaster',\n",
       " 'In',\n",
       " 'Out',\n",
       " '_',\n",
       " '_1',\n",
       " '_14',\n",
       " '_4',\n",
       " '_5',\n",
       " '_8',\n",
       " '__',\n",
       " '___',\n",
       " '__builtin__',\n",
       " '__builtins__',\n",
       " '__doc__',\n",
       " '__loader__',\n",
       " '__name__',\n",
       " '__package__',\n",
       " '__spec__',\n",
       " '_dh',\n",
       " '_i',\n",
       " '_i1',\n",
       " '_i10',\n",
       " '_i11',\n",
       " '_i12',\n",
       " '_i13',\n",
       " '_i14',\n",
       " '_i15',\n",
       " '_i16',\n",
       " '_i17',\n",
       " '_i2',\n",
       " '_i3',\n",
       " '_i4',\n",
       " '_i5',\n",
       " '_i6',\n",
       " '_i7',\n",
       " '_i8',\n",
       " '_i9',\n",
       " '_ih',\n",
       " '_ii',\n",
       " '_iii',\n",
       " '_oh',\n",
       " 'exit',\n",
       " 'get_ipython',\n",
       " 'quit']"
      ]
     },
     "execution_count": 17,
     "metadata": {},
     "output_type": "execute_result"
    }
   ],
   "source": [
    "dir()"
   ]
  },
  {
   "cell_type": "code",
   "execution_count": 18,
   "metadata": {},
   "outputs": [
    {
     "name": "stdout",
     "output_type": "stream",
     "text": [
      "Variable           Type    Data/Info\n",
      "------------------------------------\n",
      "Estudiante         type    <class '__main__.Estudiante'>\n",
      "EstudianteMaster   type    <class '__main__.EstudianteMaster'>\n"
     ]
    }
   ],
   "source": [
    "%whos"
   ]
  },
  {
   "cell_type": "code",
   "execution_count": 19,
   "metadata": {},
   "outputs": [],
   "source": [
    "%reset -f"
   ]
  },
  {
   "cell_type": "code",
   "execution_count": 20,
   "metadata": {},
   "outputs": [
    {
     "data": {
      "text/plain": [
       "['In',\n",
       " 'Out',\n",
       " '__builtin__',\n",
       " '__builtins__',\n",
       " '__name__',\n",
       " '_dh',\n",
       " '_i',\n",
       " '_i20',\n",
       " '_ih',\n",
       " '_ii',\n",
       " '_iii',\n",
       " '_oh',\n",
       " 'exit',\n",
       " 'get_ipython',\n",
       " 'quit']"
      ]
     },
     "execution_count": 20,
     "metadata": {},
     "output_type": "execute_result"
    }
   ],
   "source": [
    "dir()"
   ]
  },
  {
   "cell_type": "code",
   "execution_count": 21,
   "metadata": {},
   "outputs": [
    {
     "name": "stdout",
     "output_type": "stream",
     "text": [
      "Interactive namespace is empty.\n"
     ]
    }
   ],
   "source": [
    "%whos"
   ]
  },
  {
   "cell_type": "markdown",
   "metadata": {},
   "source": [
    "## Tipos de datos por defecto (built-in)\n",
    "\n",
    "### Números\n",
    "\n",
    "Son objetos inmutables\n",
    "\n",
    "Pueden hacerse conversiones entre clases de números mediante la operación denominada *casting*.\n",
    "\n",
    "Al hacer operaciones entre clases y subclases, el intérprete puede realizar *upcasting*, esto es, convertir el objeto de la subclase a la clase de la que proviene.\n",
    "\n",
    "#### Clase de los Enteros (integer class)\n",
    "\n",
    "Se representan internamente en binario, pero por defecto se muestran en decimal.\n",
    "\n",
    "* Es posible expresar directamente literales binarios, octales y hexadecimales, comenzando el literal por `0b`, `0o` y `0x` respectivamente\n",
    "* Pueden obtenerse cadenas con representaciones binaria, octal y hexadecimal con las funciones `bin()`, `oct()` y `hex()`\n",
    "* `int(x, base=10)` permite obtener el número en distintas bases cuando `x`es una cadena\n",
    "* Es posible hacer operaciones directamente en binario con operadores a nivel de bit"
   ]
  },
  {
   "cell_type": "code",
   "execution_count": 22,
   "metadata": {},
   "outputs": [],
   "source": [
    "a = 15\n",
    "b = -7\n",
    "c = a\n",
    "d = int(15.1) # casting de flotante a entero"
   ]
  },
  {
   "cell_type": "code",
   "execution_count": 23,
   "metadata": {},
   "outputs": [
    {
     "name": "stdout",
     "output_type": "stream",
     "text": [
      "<class 'int'> id:  140736142837120\n",
      "<class 'int'> id:  1903478368400\n",
      "<class 'int'> id:  140736142837120\n",
      "<class 'int'> id:  140736142837120\n"
     ]
    }
   ],
   "source": [
    "print(type(a), 'id: ', id(a))\n",
    "print(type(b), 'id: ', id(b))\n",
    "print(type(c), 'id: ', id(c))\n",
    "print(type(d), 'id: ', id(d)) # Python puede asignar el mismo objeto que a u otro"
   ]
  },
  {
   "cell_type": "code",
   "execution_count": 24,
   "metadata": {},
   "outputs": [
    {
     "data": {
      "text/plain": [
       "8"
      ]
     },
     "execution_count": 24,
     "metadata": {},
     "output_type": "execute_result"
    }
   ],
   "source": [
    "a + b # suma"
   ]
  },
  {
   "cell_type": "code",
   "execution_count": 25,
   "metadata": {},
   "outputs": [
    {
     "data": {
      "text/plain": [
       "-22"
      ]
     },
     "execution_count": 25,
     "metadata": {},
     "output_type": "execute_result"
    }
   ],
   "source": [
    ">>> b - a # resta"
   ]
  },
  {
   "cell_type": "code",
   "execution_count": 26,
   "metadata": {},
   "outputs": [
    {
     "data": {
      "text/plain": [
       "-105"
      ]
     },
     "execution_count": 26,
     "metadata": {},
     "output_type": "execute_result"
    }
   ],
   "source": [
    "a * b # multiplicación"
   ]
  },
  {
   "cell_type": "code",
   "execution_count": 27,
   "metadata": {},
   "outputs": [
    {
     "data": {
      "text/plain": [
       "-4747561509943"
      ]
     },
     "execution_count": 27,
     "metadata": {},
     "output_type": "execute_result"
    }
   ],
   "source": [
    "b ** a # potencia"
   ]
  },
  {
   "cell_type": "code",
   "execution_count": 28,
   "metadata": {},
   "outputs": [
    {
     "data": {
      "text/plain": [
       "-4747561509943"
      ]
     },
     "execution_count": 28,
     "metadata": {},
     "output_type": "execute_result"
    }
   ],
   "source": [
    "pow(b,a) # potencia"
   ]
  },
  {
   "cell_type": "code",
   "execution_count": 29,
   "metadata": {},
   "outputs": [
    {
     "data": {
      "text/plain": [
       "-3"
      ]
     },
     "execution_count": 29,
     "metadata": {},
     "output_type": "execute_result"
    }
   ],
   "source": [
    "a // b # división entera"
   ]
  },
  {
   "cell_type": "code",
   "execution_count": 30,
   "metadata": {},
   "outputs": [
    {
     "data": {
      "text/plain": [
       "-6"
      ]
     },
     "execution_count": 30,
     "metadata": {},
     "output_type": "execute_result"
    }
   ],
   "source": [
    "a % b # Módulo o resto"
   ]
  },
  {
   "cell_type": "code",
   "execution_count": 31,
   "metadata": {},
   "outputs": [
    {
     "data": {
      "text/plain": [
       "-2.142857142857143"
      ]
     },
     "execution_count": 31,
     "metadata": {},
     "output_type": "execute_result"
    }
   ],
   "source": [
    "a / b # división real"
   ]
  },
  {
   "cell_type": "code",
   "execution_count": 32,
   "metadata": {},
   "outputs": [
    {
     "data": {
      "text/plain": [
       "(-3, -6)"
      ]
     },
     "execution_count": 32,
     "metadata": {},
     "output_type": "execute_result"
    }
   ],
   "source": [
    "divmod(a,b) # devuelve tupla con división entera y resto"
   ]
  },
  {
   "cell_type": "code",
   "execution_count": 33,
   "metadata": {},
   "outputs": [
    {
     "data": {
      "text/plain": [
       "179769313486231590772930519078902473361797697894230657273430081157732675805500963132708477322407536021120113879871393357658789768814416622492847430639474124377767893424865485276302219601246094119453082952085005768838150682342462881473913110540827237163350510684586298239947245938479716304835356329624224137216"
      ]
     },
     "execution_count": 33,
     "metadata": {},
     "output_type": "execute_result"
    }
   ],
   "source": [
    "2 ** 1024 # posibilidad d etrabajar con grandes enteros"
   ]
  },
  {
   "cell_type": "code",
   "execution_count": 34,
   "metadata": {},
   "outputs": [
    {
     "name": "stdout",
     "output_type": "stream",
     "text": [
      "21\n"
     ]
    }
   ],
   "source": [
    "n_bin = 0b010101 # Literal binario\n",
    "print(n_bin)"
   ]
  },
  {
   "cell_type": "code",
   "execution_count": 35,
   "metadata": {},
   "outputs": [
    {
     "data": {
      "text/plain": [
       "'0b10101'"
      ]
     },
     "execution_count": 35,
     "metadata": {},
     "output_type": "execute_result"
    }
   ],
   "source": [
    "bin(n_bin) # obtiene representación binaria en cadena"
   ]
  },
  {
   "cell_type": "code",
   "execution_count": 36,
   "metadata": {},
   "outputs": [
    {
     "name": "stdout",
     "output_type": "stream",
     "text": [
      "255\n"
     ]
    }
   ],
   "source": [
    "n_hex = 0xFF # literal hexadecimal\n",
    "print(n_hex)"
   ]
  },
  {
   "cell_type": "code",
   "execution_count": 37,
   "metadata": {},
   "outputs": [
    {
     "data": {
      "text/plain": [
       "'0xff'"
      ]
     },
     "execution_count": 37,
     "metadata": {},
     "output_type": "execute_result"
    }
   ],
   "source": [
    "hex(n_hex) # obtiene representación hexadecimal en cadena"
   ]
  },
  {
   "cell_type": "code",
   "execution_count": 38,
   "metadata": {},
   "outputs": [],
   "source": [
    "n_oct = 0o100 # Literal octal"
   ]
  },
  {
   "cell_type": "code",
   "execution_count": 39,
   "metadata": {},
   "outputs": [
    {
     "data": {
      "text/plain": [
       "'0o100'"
      ]
     },
     "execution_count": 39,
     "metadata": {},
     "output_type": "execute_result"
    }
   ],
   "source": [
    "oct(n_oct) # obtiene representación octal en cadena"
   ]
  },
  {
   "cell_type": "code",
   "execution_count": 40,
   "metadata": {},
   "outputs": [
    {
     "data": {
      "text/plain": [
       "53"
      ]
     },
     "execution_count": 40,
     "metadata": {},
     "output_type": "execute_result"
    }
   ],
   "source": [
    "int('125', base=6) # 125 base 6 a decimal "
   ]
  },
  {
   "cell_type": "code",
   "execution_count": 41,
   "metadata": {},
   "outputs": [
    {
     "data": {
      "text/plain": [
       "255"
      ]
     },
     "execution_count": 41,
     "metadata": {},
     "output_type": "execute_result"
    }
   ],
   "source": [
    "int('ff',base=16) # ff hexadecimal a base 10"
   ]
  },
  {
   "cell_type": "code",
   "execution_count": 42,
   "metadata": {},
   "outputs": [
    {
     "data": {
      "text/plain": [
       "255"
      ]
     },
     "execution_count": 42,
     "metadata": {},
     "output_type": "execute_result"
    }
   ],
   "source": [
    "int('0xff',base=16)"
   ]
  },
  {
   "cell_type": "code",
   "execution_count": 43,
   "metadata": {},
   "outputs": [
    {
     "data": {
      "text/plain": [
       "255"
      ]
     },
     "execution_count": 43,
     "metadata": {},
     "output_type": "execute_result"
    }
   ],
   "source": [
    "0b10101010 | 0b01010101 # OR bit a bit. Opera en complemento a 2 con bit adicional de signo"
   ]
  },
  {
   "cell_type": "code",
   "execution_count": 44,
   "metadata": {},
   "outputs": [
    {
     "data": {
      "text/plain": [
       "0"
      ]
     },
     "execution_count": 44,
     "metadata": {},
     "output_type": "execute_result"
    }
   ],
   "source": [
    "0b10101010 & 0b01010101 # AND bit a bit. Opera en complemento a 2 con bit adicional de signo"
   ]
  },
  {
   "cell_type": "code",
   "execution_count": 45,
   "metadata": {},
   "outputs": [
    {
     "data": {
      "text/plain": [
       "255"
      ]
     },
     "execution_count": 45,
     "metadata": {},
     "output_type": "execute_result"
    }
   ],
   "source": [
    "0b10101010 ^ 0b01010101 # XOR bit a bit. Opera en complemento a 2 con bit adicional de signo"
   ]
  },
  {
   "cell_type": "code",
   "execution_count": 46,
   "metadata": {},
   "outputs": [
    {
     "data": {
      "text/plain": [
       "-171"
      ]
     },
     "execution_count": 46,
     "metadata": {},
     "output_type": "execute_result"
    }
   ],
   "source": [
    "~0b10101010 # NOT bit a bit OJO con signo. \n",
    "# Opera en complemento a 2 incluyendo infinitos bits de signo"
   ]
  },
  {
   "cell_type": "code",
   "execution_count": 47,
   "metadata": {},
   "outputs": [
    {
     "data": {
      "text/plain": [
       "'-0b10101011'"
      ]
     },
     "execution_count": 47,
     "metadata": {},
     "output_type": "execute_result"
    }
   ],
   "source": [
    "bin(~0b10101010)"
   ]
  },
  {
   "cell_type": "code",
   "execution_count": 48,
   "metadata": {},
   "outputs": [
    {
     "data": {
      "text/plain": [
       "85"
      ]
     },
     "execution_count": 48,
     "metadata": {},
     "output_type": "execute_result"
    }
   ],
   "source": [
    "0b10101010 >> 1 # desplazamiento a la derecha de 1 bit. \n",
    "# Opera en complemento a 2 incluyendo infinitos bits de signo"
   ]
  },
  {
   "cell_type": "code",
   "execution_count": 49,
   "metadata": {},
   "outputs": [
    {
     "data": {
      "text/plain": [
       "1360"
      ]
     },
     "execution_count": 49,
     "metadata": {},
     "output_type": "execute_result"
    }
   ],
   "source": [
    "0b10101010 << 3 # desplazamiento a la izquierda de 3 bits\n",
    "# Opera en complemento a 2 incluyendo infinitos bits de signo"
   ]
  },
  {
   "cell_type": "markdown",
   "metadata": {},
   "source": [
    "#### Clase de los Booleanos (bool class)\n",
    "\n",
    "Los booleanos son True y False y constituyen una subclase de los enteros\n",
    "\n",
    "* `True` se comporta como 1\n",
    "* `False` se comporta como 0\n",
    "Se definen las operaciones `and`, `or` y `not`.\n",
    "\n",
    "Pueden evaluarse como booleanos, conforme a ciertas reglas, objetos de otras clases:\n",
    "* Clases numéricas (int, float, complex y otras): evalúan True, salvo el cero de la clase\n",
    "* secuencias y colecciones de cualquier tipo: evalúan a True, salvo vacías (`''`, `[]`, `()`, `{}`)\n",
    "* `None` evalúa a False. Es una clase con un único objeto (singleton), que guarda relación con el booleano False, pero que no debe confundirse con él. Significa ausencia de resultado (a diferencia de resultado falso)\n",
    "\n",
    "Pueden hacerse comparaciones entre objetos de cualquier clase, que evalúan a un booleano. Pueden combinarse con los operadores booleanos (que tienen prioridad inferior):\n",
    "* `==`, `!=`: compara valores de objetos\n",
    "* `<`, `>`, `<=`, `>=`\n",
    "* `is`, `is not`:compara identidad de objetos conforme `id(objeto)`"
   ]
  },
  {
   "cell_type": "code",
   "execution_count": 50,
   "metadata": {},
   "outputs": [
    {
     "name": "stdout",
     "output_type": "stream",
     "text": [
      "<class 'bool'> <class 'bool'>\n"
     ]
    }
   ],
   "source": [
    "print(type(True), type(False))"
   ]
  },
  {
   "cell_type": "code",
   "execution_count": 51,
   "metadata": {},
   "outputs": [
    {
     "data": {
      "text/plain": [
       "['__abs__',\n",
       " '__add__',\n",
       " '__and__',\n",
       " '__bool__',\n",
       " '__ceil__',\n",
       " '__class__',\n",
       " '__delattr__',\n",
       " '__dir__',\n",
       " '__divmod__',\n",
       " '__doc__',\n",
       " '__eq__',\n",
       " '__float__',\n",
       " '__floor__',\n",
       " '__floordiv__',\n",
       " '__format__',\n",
       " '__ge__',\n",
       " '__getattribute__',\n",
       " '__getnewargs__',\n",
       " '__gt__',\n",
       " '__hash__',\n",
       " '__index__',\n",
       " '__init__',\n",
       " '__init_subclass__',\n",
       " '__int__',\n",
       " '__invert__',\n",
       " '__le__',\n",
       " '__lshift__',\n",
       " '__lt__',\n",
       " '__mod__',\n",
       " '__mul__',\n",
       " '__ne__',\n",
       " '__neg__',\n",
       " '__new__',\n",
       " '__or__',\n",
       " '__pos__',\n",
       " '__pow__',\n",
       " '__radd__',\n",
       " '__rand__',\n",
       " '__rdivmod__',\n",
       " '__reduce__',\n",
       " '__reduce_ex__',\n",
       " '__repr__',\n",
       " '__rfloordiv__',\n",
       " '__rlshift__',\n",
       " '__rmod__',\n",
       " '__rmul__',\n",
       " '__ror__',\n",
       " '__round__',\n",
       " '__rpow__',\n",
       " '__rrshift__',\n",
       " '__rshift__',\n",
       " '__rsub__',\n",
       " '__rtruediv__',\n",
       " '__rxor__',\n",
       " '__setattr__',\n",
       " '__sizeof__',\n",
       " '__str__',\n",
       " '__sub__',\n",
       " '__subclasshook__',\n",
       " '__truediv__',\n",
       " '__trunc__',\n",
       " '__xor__',\n",
       " 'bit_length',\n",
       " 'conjugate',\n",
       " 'denominator',\n",
       " 'from_bytes',\n",
       " 'imag',\n",
       " 'numerator',\n",
       " 'real',\n",
       " 'to_bytes']"
      ]
     },
     "execution_count": 51,
     "metadata": {},
     "output_type": "execute_result"
    }
   ],
   "source": [
    "dir(True)"
   ]
  },
  {
   "cell_type": "code",
   "execution_count": 52,
   "metadata": {},
   "outputs": [
    {
     "name": "stdout",
     "output_type": "stream",
     "text": [
      "<class 'NoneType'>\n"
     ]
    }
   ],
   "source": [
    "print(type(None))"
   ]
  },
  {
   "cell_type": "code",
   "execution_count": 53,
   "metadata": {},
   "outputs": [
    {
     "data": {
      "text/plain": [
       "False"
      ]
     },
     "execution_count": 53,
     "metadata": {},
     "output_type": "execute_result"
    }
   ],
   "source": [
    "bool(None)"
   ]
  },
  {
   "cell_type": "code",
   "execution_count": 54,
   "metadata": {},
   "outputs": [
    {
     "data": {
      "text/plain": [
       "1"
      ]
     },
     "execution_count": 54,
     "metadata": {},
     "output_type": "execute_result"
    }
   ],
   "source": [
    "int(True) # casting de booleano a entero"
   ]
  },
  {
   "cell_type": "code",
   "execution_count": 55,
   "metadata": {},
   "outputs": [
    {
     "data": {
      "text/plain": [
       "0"
      ]
     },
     "execution_count": 55,
     "metadata": {},
     "output_type": "execute_result"
    }
   ],
   "source": [
    "int(False) # casting de booleano a entero"
   ]
  },
  {
   "cell_type": "code",
   "execution_count": 56,
   "metadata": {},
   "outputs": [
    {
     "data": {
      "text/plain": [
       "False"
      ]
     },
     "execution_count": 56,
     "metadata": {},
     "output_type": "execute_result"
    }
   ],
   "source": [
    "bool(0) # casting de entero a booleano"
   ]
  },
  {
   "cell_type": "code",
   "execution_count": 57,
   "metadata": {},
   "outputs": [
    {
     "data": {
      "text/plain": [
       "True"
      ]
     },
     "execution_count": 57,
     "metadata": {},
     "output_type": "execute_result"
    }
   ],
   "source": [
    "bool(1) # casting de entero a booleano"
   ]
  },
  {
   "cell_type": "code",
   "execution_count": 58,
   "metadata": {},
   "outputs": [
    {
     "data": {
      "text/plain": [
       "True"
      ]
     },
     "execution_count": 58,
     "metadata": {},
     "output_type": "execute_result"
    }
   ],
   "source": [
    "bool(537) #todos los enteros distintos de 0 cero evalúan a True"
   ]
  },
  {
   "cell_type": "code",
   "execution_count": 59,
   "metadata": {},
   "outputs": [
    {
     "data": {
      "text/plain": [
       "False"
      ]
     },
     "execution_count": 59,
     "metadata": {},
     "output_type": "execute_result"
    }
   ],
   "source": [
    "bool(0.0) # casting de flotante a booleano"
   ]
  },
  {
   "cell_type": "code",
   "execution_count": 60,
   "metadata": {},
   "outputs": [
    {
     "data": {
      "text/plain": [
       "True"
      ]
     },
     "execution_count": 60,
     "metadata": {},
     "output_type": "execute_result"
    }
   ],
   "source": [
    "bool(7.3) # igual pasa con los flotantes"
   ]
  },
  {
   "cell_type": "code",
   "execution_count": 61,
   "metadata": {},
   "outputs": [
    {
     "data": {
      "text/plain": [
       "False"
      ]
     },
     "execution_count": 61,
     "metadata": {},
     "output_type": "execute_result"
    }
   ],
   "source": [
    "not True"
   ]
  },
  {
   "cell_type": "code",
   "execution_count": 62,
   "metadata": {},
   "outputs": [
    {
     "data": {
      "text/plain": [
       "True"
      ]
     },
     "execution_count": 62,
     "metadata": {},
     "output_type": "execute_result"
    }
   ],
   "source": [
    "True and True"
   ]
  },
  {
   "cell_type": "code",
   "execution_count": 63,
   "metadata": {},
   "outputs": [
    {
     "data": {
      "text/plain": [
       "True"
      ]
     },
     "execution_count": 63,
     "metadata": {},
     "output_type": "execute_result"
    }
   ],
   "source": [
    "False or True"
   ]
  },
  {
   "cell_type": "code",
   "execution_count": 64,
   "metadata": {},
   "outputs": [
    {
     "data": {
      "text/plain": [
       "2"
      ]
     },
     "execution_count": 64,
     "metadata": {},
     "output_type": "execute_result"
    }
   ],
   "source": [
    "1 + True"
   ]
  },
  {
   "cell_type": "code",
   "execution_count": 65,
   "metadata": {},
   "outputs": [
    {
     "data": {
      "text/plain": [
       "37"
      ]
     },
     "execution_count": 65,
     "metadata": {},
     "output_type": "execute_result"
    }
   ],
   "source": [
    "37 or False # upcasting del booleano"
   ]
  },
  {
   "cell_type": "code",
   "execution_count": 66,
   "metadata": {},
   "outputs": [
    {
     "data": {
      "text/plain": [
       "True"
      ]
     },
     "execution_count": 66,
     "metadata": {},
     "output_type": "execute_result"
    }
   ],
   "source": [
    "1 < 3 < 5 # comparación"
   ]
  },
  {
   "cell_type": "code",
   "execution_count": 67,
   "metadata": {},
   "outputs": [
    {
     "data": {
      "text/plain": [
       "True"
      ]
     },
     "execution_count": 67,
     "metadata": {},
     "output_type": "execute_result"
    }
   ],
   "source": [
    "1 !=3 or 5 == 5 # comparación combinada con operadores booleanos"
   ]
  },
  {
   "cell_type": "markdown",
   "metadata": {},
   "source": [
    "#### Clase de los Reales (float class)\n",
    "\n",
    "Los números reales se representan en Python conforme al formato en punto flotante de doble precisión (IEEE 754), que utiliza 64 bits divididos en signo, exponente y mantisa.\n",
    "\n",
    "La representación con flotantes da lugar a problemas de aproximación.\n",
    "\n",
    "La función `round(num [, ndig])`redondea num con ndig dígitos "
   ]
  },
  {
   "cell_type": "code",
   "execution_count": 68,
   "metadata": {},
   "outputs": [
    {
     "data": {
      "text/plain": [
       "sys.float_info(max=1.7976931348623157e+308, max_exp=1024, max_10_exp=308, min=2.2250738585072014e-308, min_exp=-1021, min_10_exp=-307, dig=15, mant_dig=53, epsilon=2.220446049250313e-16, radix=2, rounds=1)"
      ]
     },
     "execution_count": 68,
     "metadata": {},
     "output_type": "execute_result"
    }
   ],
   "source": [
    "import sys\n",
    "\n",
    "sys.float_info"
   ]
  },
  {
   "cell_type": "code",
   "execution_count": 69,
   "metadata": {},
   "outputs": [
    {
     "data": {
      "text/plain": [
       "5.551115123125783e-17"
      ]
     },
     "execution_count": 69,
     "metadata": {},
     "output_type": "execute_result"
    }
   ],
   "source": [
    "3 * 0.1 - 0.3 # Error de aproximación!!!"
   ]
  },
  {
   "cell_type": "code",
   "execution_count": 70,
   "metadata": {},
   "outputs": [
    {
     "name": "stdout",
     "output_type": "stream",
     "text": [
      "<class 'float'>\n"
     ]
    }
   ],
   "source": [
    "pi = 3.141592\n",
    "\n",
    "print(type(pi))"
   ]
  },
  {
   "cell_type": "code",
   "execution_count": 71,
   "metadata": {},
   "outputs": [
    {
     "data": {
      "text/plain": [
       "3.14"
      ]
     },
     "execution_count": 71,
     "metadata": {},
     "output_type": "execute_result"
    }
   ],
   "source": [
    "round(pi,2) # redondeo"
   ]
  },
  {
   "cell_type": "code",
   "execution_count": 72,
   "metadata": {},
   "outputs": [
    {
     "data": {
      "text/plain": [
       "['__abs__',\n",
       " '__add__',\n",
       " '__bool__',\n",
       " '__class__',\n",
       " '__delattr__',\n",
       " '__dir__',\n",
       " '__divmod__',\n",
       " '__doc__',\n",
       " '__eq__',\n",
       " '__float__',\n",
       " '__floordiv__',\n",
       " '__format__',\n",
       " '__ge__',\n",
       " '__getattribute__',\n",
       " '__getformat__',\n",
       " '__getnewargs__',\n",
       " '__gt__',\n",
       " '__hash__',\n",
       " '__init__',\n",
       " '__init_subclass__',\n",
       " '__int__',\n",
       " '__le__',\n",
       " '__lt__',\n",
       " '__mod__',\n",
       " '__mul__',\n",
       " '__ne__',\n",
       " '__neg__',\n",
       " '__new__',\n",
       " '__pos__',\n",
       " '__pow__',\n",
       " '__radd__',\n",
       " '__rdivmod__',\n",
       " '__reduce__',\n",
       " '__reduce_ex__',\n",
       " '__repr__',\n",
       " '__rfloordiv__',\n",
       " '__rmod__',\n",
       " '__rmul__',\n",
       " '__round__',\n",
       " '__rpow__',\n",
       " '__rsub__',\n",
       " '__rtruediv__',\n",
       " '__set_format__',\n",
       " '__setattr__',\n",
       " '__sizeof__',\n",
       " '__str__',\n",
       " '__sub__',\n",
       " '__subclasshook__',\n",
       " '__truediv__',\n",
       " '__trunc__',\n",
       " 'as_integer_ratio',\n",
       " 'conjugate',\n",
       " 'fromhex',\n",
       " 'hex',\n",
       " 'imag',\n",
       " 'is_integer',\n",
       " 'real']"
      ]
     },
     "execution_count": 72,
     "metadata": {},
     "output_type": "execute_result"
    }
   ],
   "source": [
    "dir(pi)"
   ]
  },
  {
   "cell_type": "markdown",
   "metadata": {},
   "source": [
    "#### Clase de los Complejos"
   ]
  },
  {
   "cell_type": "code",
   "execution_count": 73,
   "metadata": {},
   "outputs": [
    {
     "name": "stdout",
     "output_type": "stream",
     "text": [
      "(3.5+5.3j)\n",
      "<class 'complex'>\n"
     ]
    }
   ],
   "source": [
    "real_jima = 3.5 + 5.3j\n",
    "print(real_jima)\n",
    "print(type(real_jima))"
   ]
  },
  {
   "cell_type": "code",
   "execution_count": 74,
   "metadata": {},
   "outputs": [
    {
     "data": {
      "text/plain": [
       "['__abs__',\n",
       " '__add__',\n",
       " '__bool__',\n",
       " '__class__',\n",
       " '__delattr__',\n",
       " '__dir__',\n",
       " '__divmod__',\n",
       " '__doc__',\n",
       " '__eq__',\n",
       " '__float__',\n",
       " '__floordiv__',\n",
       " '__format__',\n",
       " '__ge__',\n",
       " '__getattribute__',\n",
       " '__getnewargs__',\n",
       " '__gt__',\n",
       " '__hash__',\n",
       " '__init__',\n",
       " '__init_subclass__',\n",
       " '__int__',\n",
       " '__le__',\n",
       " '__lt__',\n",
       " '__mod__',\n",
       " '__mul__',\n",
       " '__ne__',\n",
       " '__neg__',\n",
       " '__new__',\n",
       " '__pos__',\n",
       " '__pow__',\n",
       " '__radd__',\n",
       " '__rdivmod__',\n",
       " '__reduce__',\n",
       " '__reduce_ex__',\n",
       " '__repr__',\n",
       " '__rfloordiv__',\n",
       " '__rmod__',\n",
       " '__rmul__',\n",
       " '__rpow__',\n",
       " '__rsub__',\n",
       " '__rtruediv__',\n",
       " '__setattr__',\n",
       " '__sizeof__',\n",
       " '__str__',\n",
       " '__sub__',\n",
       " '__subclasshook__',\n",
       " '__truediv__',\n",
       " 'conjugate',\n",
       " 'imag',\n",
       " 'real']"
      ]
     },
     "execution_count": 74,
     "metadata": {},
     "output_type": "execute_result"
    }
   ],
   "source": [
    "dir(real_jima)"
   ]
  },
  {
   "cell_type": "code",
   "execution_count": 75,
   "metadata": {},
   "outputs": [
    {
     "data": {
      "text/plain": [
       "3.5"
      ]
     },
     "execution_count": 75,
     "metadata": {},
     "output_type": "execute_result"
    }
   ],
   "source": [
    "real_jima.real"
   ]
  },
  {
   "cell_type": "code",
   "execution_count": 76,
   "metadata": {},
   "outputs": [
    {
     "data": {
      "text/plain": [
       "5.3"
      ]
     },
     "execution_count": 76,
     "metadata": {},
     "output_type": "execute_result"
    }
   ],
   "source": [
    "real_jima.imag"
   ]
  },
  {
   "cell_type": "code",
   "execution_count": 77,
   "metadata": {},
   "outputs": [
    {
     "data": {
      "text/plain": [
       "<function complex.conjugate>"
      ]
     },
     "execution_count": 77,
     "metadata": {},
     "output_type": "execute_result"
    }
   ],
   "source": [
    "real_jima.conjugate"
   ]
  },
  {
   "cell_type": "code",
   "execution_count": 78,
   "metadata": {},
   "outputs": [
    {
     "data": {
      "text/plain": [
       "(3.5-5.3j)"
      ]
     },
     "execution_count": 78,
     "metadata": {},
     "output_type": "execute_result"
    }
   ],
   "source": [
    "real_jima.conjugate()"
   ]
  },
  {
   "cell_type": "code",
   "execution_count": 79,
   "metadata": {},
   "outputs": [],
   "source": [
    "%reset -f"
   ]
  },
  {
   "cell_type": "markdown",
   "metadata": {},
   "source": [
    "### Secuencias Inmutables\n",
    "\n",
    "Las secuencias son objetos formados por varios objetos sucesivos. Para todas las secuencias (inmutables y mutables):\n",
    "\n",
    "* La **longitud** de las secuencias se obtiene con la función `len()`.\n",
    "* **Rodajas o \"slices\"**: Las secuencias pueden indexarse mediante rodajas, denominadas *slices*. Una rodaja o *slice* tiene la forma `start:stop:step`, siendo todos los argumentos opcionales.\n",
    "  * `start`es  un argumento inclusivo (la rodaja lo contiene). Comienza a contar desde cero.\n",
    "  * `stop` es un argumento exclusivo (la rodaja termina en la posición anterior). Un número negativo empieza a contar desde el final.\n",
    "  * `step`: salto. Puede ser negativo para comenzar desde `stop`e ir hacia `start` \n",
    "  * Las rodajas son objetos de clase `slice class`. Siempre se refieren entre corchetes: `secuencia[rodaja]`\n",
    "  * Un índice es una rodaja con un único elemento\n",
    "* **Tests de pertenencia**: `objeto in secuencia`\n",
    "\n",
    "Las **secuencias inmutables** no pueden cambiar sus valores. Para hacerlo, hay que crear copias. Son las siguientes:\n",
    "\n",
    "* Cadenas\n",
    "* Bytes\n",
    "* Tuplas"
   ]
  },
  {
   "cell_type": "markdown",
   "metadata": {},
   "source": [
    "#### Clase de las Cadenas (str class)\n",
    "\n",
    "Los datos de texto se gestionan en Python con la clase str (string). Se trata de secuencias de puntos de código UNICODE. Python no tiene un tipo *char*, así que cada carácter individual se representa mediante una cadena de longitud 1. Los literales de cadena  se codifican en Python mediante comillas simples, dobles o triples (tres simples o tres dobles).\n",
    "\n",
    "Los literales con tres comillas pueden extenderse varias líneas."
   ]
  },
  {
   "cell_type": "code",
   "execution_count": 80,
   "metadata": {},
   "outputs": [],
   "source": [
    "str1 = 'Esta es una cadena construída con comillas simples'\n",
    "str2 = \"Esta es una cadena construída con comillas dobles\"\n",
    "str3 = '''Esta es una cadena construída con comillas triples,\n",
    "... que se expande en dos líneas'''\n",
    "str4 = \"\"\"Esta es otra cadena\n",
    "construída con dobles comillas triples\n",
    "expandida en varias líneas\"\"\""
   ]
  },
  {
   "cell_type": "code",
   "execution_count": 81,
   "metadata": {},
   "outputs": [
    {
     "name": "stdout",
     "output_type": "stream",
     "text": [
      "<class 'str'>\n"
     ]
    }
   ],
   "source": [
    "print(type(str1))"
   ]
  },
  {
   "cell_type": "code",
   "execution_count": 82,
   "metadata": {},
   "outputs": [
    {
     "name": "stdout",
     "output_type": "stream",
     "text": [
      "Esta es una cadena construída con comillas triples,\n",
      "... que se expande en dos líneas\n"
     ]
    }
   ],
   "source": [
    "print(str3)"
   ]
  },
  {
   "cell_type": "code",
   "execution_count": 83,
   "metadata": {},
   "outputs": [
    {
     "data": {
      "text/plain": [
       "'Esta es otra cadena\\nconstruída con dobles comillas triples\\nexpandida en varias líneas'"
      ]
     },
     "execution_count": 83,
     "metadata": {},
     "output_type": "execute_result"
    }
   ],
   "source": [
    "str4"
   ]
  },
  {
   "cell_type": "code",
   "execution_count": 84,
   "metadata": {},
   "outputs": [
    {
     "name": "stdout",
     "output_type": "stream",
     "text": [
      "Esta es otra cadena\n",
      "construída con dobles comillas triples\n",
      "expandida en varias líneas\n"
     ]
    }
   ],
   "source": [
    "print(str4)"
   ]
  },
  {
   "cell_type": "code",
   "execution_count": 85,
   "metadata": {},
   "outputs": [
    {
     "data": {
      "text/plain": [
       "85"
      ]
     },
     "execution_count": 85,
     "metadata": {},
     "output_type": "execute_result"
    }
   ],
   "source": [
    "len(str4) # logitud de la cadena: len() es una función por defecto (built-in)"
   ]
  },
  {
   "cell_type": "code",
   "execution_count": 86,
   "metadata": {},
   "outputs": [
    {
     "data": {
      "text/plain": [
       "'E'"
      ]
     },
     "execution_count": 86,
     "metadata": {},
     "output_type": "execute_result"
    }
   ],
   "source": [
    "str4[0] # indexando en posición 0, que es el primer carácter"
   ]
  },
  {
   "cell_type": "code",
   "execution_count": 87,
   "metadata": {},
   "outputs": [
    {
     "data": {
      "text/plain": [
       "'a'"
      ]
     },
     "execution_count": 87,
     "metadata": {},
     "output_type": "execute_result"
    }
   ],
   "source": [
    "str4[3] # indexando en posición 3, que es el cuarto carácter"
   ]
  },
  {
   "cell_type": "code",
   "execution_count": 88,
   "metadata": {},
   "outputs": [
    {
     "data": {
      "text/plain": [
       "'Esta '"
      ]
     },
     "execution_count": 88,
     "metadata": {},
     "output_type": "execute_result"
    }
   ],
   "source": [
    "str4[:5] # caracteres hasta posición 5-1"
   ]
  },
  {
   "cell_type": "code",
   "execution_count": 89,
   "metadata": {},
   "outputs": [
    {
     "data": {
      "text/plain": [
       "'es otra cadena\\nconstruída con dobles comillas triples\\nexpandida en varias líneas'"
      ]
     },
     "execution_count": 89,
     "metadata": {},
     "output_type": "execute_result"
    }
   ],
   "source": [
    "str4[5:] # caracteres desde posición 5"
   ]
  },
  {
   "cell_type": "code",
   "execution_count": 90,
   "metadata": {},
   "outputs": [
    {
     "data": {
      "text/plain": [
       "'es otra'"
      ]
     },
     "execution_count": 90,
     "metadata": {},
     "output_type": "execute_result"
    }
   ],
   "source": [
    "str4[5:12] # caracteres entre posiciones 5 y 12-1"
   ]
  },
  {
   "cell_type": "code",
   "execution_count": 91,
   "metadata": {},
   "outputs": [
    {
     "data": {
      "text/plain": [
       "'East daotí noeciatpsxndevi ns'"
      ]
     },
     "execution_count": 91,
     "metadata": {},
     "output_type": "execute_result"
    }
   ],
   "source": [
    "str4[::3] # Todos los caracteres, saltando de tres en tres"
   ]
  },
  {
   "cell_type": "code",
   "execution_count": 92,
   "metadata": {},
   "outputs": [],
   "source": [
    "rodaja = slice(0,len(str4),3)"
   ]
  },
  {
   "cell_type": "code",
   "execution_count": 93,
   "metadata": {},
   "outputs": [
    {
     "data": {
      "text/plain": [
       "'East daotí noeciatpsxndevi ns'"
      ]
     },
     "execution_count": 93,
     "metadata": {},
     "output_type": "execute_result"
    }
   ],
   "source": [
    "str4[rodaja]"
   ]
  },
  {
   "cell_type": "code",
   "execution_count": 94,
   "metadata": {},
   "outputs": [
    {
     "name": "stdout",
     "output_type": "stream",
     "text": [
      "<class 'slice'>\n"
     ]
    }
   ],
   "source": [
    "print(type(rodaja))"
   ]
  },
  {
   "cell_type": "code",
   "execution_count": 95,
   "metadata": {},
   "outputs": [],
   "source": [
    "#str4[3] = \"q\" # No pueden cambiarse los contenidos, pues la cadena es inmutable"
   ]
  },
  {
   "cell_type": "code",
   "execution_count": 96,
   "metadata": {},
   "outputs": [
    {
     "name": "stdout",
     "output_type": "stream",
     "text": [
      "<class 'str'>\n"
     ]
    }
   ],
   "source": [
    "print(type(str4))"
   ]
  },
  {
   "cell_type": "code",
   "execution_count": 97,
   "metadata": {},
   "outputs": [
    {
     "data": {
      "text/plain": [
       "['__add__',\n",
       " '__class__',\n",
       " '__contains__',\n",
       " '__delattr__',\n",
       " '__dir__',\n",
       " '__doc__',\n",
       " '__eq__',\n",
       " '__format__',\n",
       " '__ge__',\n",
       " '__getattribute__',\n",
       " '__getitem__',\n",
       " '__getnewargs__',\n",
       " '__gt__',\n",
       " '__hash__',\n",
       " '__init__',\n",
       " '__init_subclass__',\n",
       " '__iter__',\n",
       " '__le__',\n",
       " '__len__',\n",
       " '__lt__',\n",
       " '__mod__',\n",
       " '__mul__',\n",
       " '__ne__',\n",
       " '__new__',\n",
       " '__reduce__',\n",
       " '__reduce_ex__',\n",
       " '__repr__',\n",
       " '__rmod__',\n",
       " '__rmul__',\n",
       " '__setattr__',\n",
       " '__sizeof__',\n",
       " '__str__',\n",
       " '__subclasshook__',\n",
       " 'capitalize',\n",
       " 'casefold',\n",
       " 'center',\n",
       " 'count',\n",
       " 'encode',\n",
       " 'endswith',\n",
       " 'expandtabs',\n",
       " 'find',\n",
       " 'format',\n",
       " 'format_map',\n",
       " 'index',\n",
       " 'isalnum',\n",
       " 'isalpha',\n",
       " 'isascii',\n",
       " 'isdecimal',\n",
       " 'isdigit',\n",
       " 'isidentifier',\n",
       " 'islower',\n",
       " 'isnumeric',\n",
       " 'isprintable',\n",
       " 'isspace',\n",
       " 'istitle',\n",
       " 'isupper',\n",
       " 'join',\n",
       " 'ljust',\n",
       " 'lower',\n",
       " 'lstrip',\n",
       " 'maketrans',\n",
       " 'partition',\n",
       " 'replace',\n",
       " 'rfind',\n",
       " 'rindex',\n",
       " 'rjust',\n",
       " 'rpartition',\n",
       " 'rsplit',\n",
       " 'rstrip',\n",
       " 'split',\n",
       " 'splitlines',\n",
       " 'startswith',\n",
       " 'strip',\n",
       " 'swapcase',\n",
       " 'title',\n",
       " 'translate',\n",
       " 'upper',\n",
       " 'zfill']"
      ]
     },
     "execution_count": 97,
     "metadata": {},
     "output_type": "execute_result"
    }
   ],
   "source": [
    "dir(str4)"
   ]
  },
  {
   "cell_type": "code",
   "execution_count": 98,
   "metadata": {},
   "outputs": [
    {
     "data": {
      "text/plain": [
       "11"
      ]
     },
     "execution_count": 98,
     "metadata": {},
     "output_type": "execute_result"
    }
   ],
   "source": [
    "str4.count(\"a\")"
   ]
  },
  {
   "cell_type": "code",
   "execution_count": 99,
   "metadata": {},
   "outputs": [
    {
     "data": {
      "text/plain": [
       "3"
      ]
     },
     "execution_count": 99,
     "metadata": {},
     "output_type": "execute_result"
    }
   ],
   "source": [
    "str4.index(\"a\")"
   ]
  },
  {
   "cell_type": "code",
   "execution_count": 100,
   "metadata": {},
   "outputs": [
    {
     "data": {
      "text/plain": [
       "True"
      ]
     },
     "execution_count": 100,
     "metadata": {},
     "output_type": "execute_result"
    }
   ],
   "source": [
    "str4.startswith(\"Esta\")"
   ]
  },
  {
   "cell_type": "code",
   "execution_count": 101,
   "metadata": {},
   "outputs": [
    {
     "data": {
      "text/plain": [
       "True"
      ]
     },
     "execution_count": 101,
     "metadata": {},
     "output_type": "execute_result"
    }
   ],
   "source": [
    "str4.endswith(\"líneas\")"
   ]
  },
  {
   "cell_type": "code",
   "execution_count": 102,
   "metadata": {},
   "outputs": [
    {
     "data": {
      "text/plain": [
       "'Tra cadena\\nconst'"
      ]
     },
     "execution_count": 102,
     "metadata": {},
     "output_type": "execute_result"
    }
   ],
   "source": [
    "str4[9:25].capitalize()"
   ]
  },
  {
   "cell_type": "code",
   "execution_count": 103,
   "metadata": {},
   "outputs": [
    {
     "name": "stdout",
     "output_type": "stream",
     "text": [
      "Esta Es Otra Cadena\n",
      "Construída Con Dobles Comillas Triples\n",
      "Expandida En Varias Líneas\n"
     ]
    }
   ],
   "source": [
    "print(str4.title())"
   ]
  },
  {
   "cell_type": "code",
   "execution_count": 104,
   "metadata": {},
   "outputs": [
    {
     "name": "stdout",
     "output_type": "stream",
     "text": [
      "ESTA ES OTRA CADENA\n",
      "CONSTRUÍDA CON DOBLES COMILLAS TRIPLES\n",
      "EXPANDIDA EN VARIAS LÍNEAS\n"
     ]
    }
   ],
   "source": [
    "print(str4.upper())"
   ]
  },
  {
   "cell_type": "code",
   "execution_count": 105,
   "metadata": {},
   "outputs": [
    {
     "name": "stdout",
     "output_type": "stream",
     "text": [
      "EstAAA es otrAAA cAAAdenAAA\n",
      "construídAAA con dobles comillAAAs triples\n",
      "expAAAndidAAA en vAAAriAAAs líneAAAs\n"
     ]
    }
   ],
   "source": [
    "print(str4.replace(\"a\",\"AAA\")) "
   ]
  },
  {
   "cell_type": "code",
   "execution_count": 106,
   "metadata": {},
   "outputs": [
    {
     "name": "stdout",
     "output_type": "stream",
     "text": [
      "Esta es otra cadena\n",
      "construída con dobles comillas triples\n",
      "expandida en varias líneas\n"
     ]
    }
   ],
   "source": [
    "print(str4) # no se ha modificado la cadena, que es inmutable"
   ]
  },
  {
   "cell_type": "code",
   "execution_count": 107,
   "metadata": {},
   "outputs": [
    {
     "data": {
      "text/plain": [
       "True"
      ]
     },
     "execution_count": 107,
     "metadata": {},
     "output_type": "execute_result"
    }
   ],
   "source": [
    "\"a\" in str4 # test de pertenencia"
   ]
  },
  {
   "cell_type": "code",
   "execution_count": 108,
   "metadata": {},
   "outputs": [
    {
     "data": {
      "text/plain": [
       "False"
      ]
     },
     "execution_count": 108,
     "metadata": {},
     "output_type": "execute_result"
    }
   ],
   "source": [
    "\"W\" in str4"
   ]
  },
  {
   "cell_type": "code",
   "execution_count": 109,
   "metadata": {},
   "outputs": [
    {
     "data": {
      "text/plain": [
       "False"
      ]
     },
     "execution_count": 109,
     "metadata": {},
     "output_type": "execute_result"
    }
   ],
   "source": [
    "bool(\"\") # Las cadenas vacías evalúan a False"
   ]
  },
  {
   "cell_type": "code",
   "execution_count": 110,
   "metadata": {},
   "outputs": [
    {
     "data": {
      "text/plain": [
       "True"
      ]
     },
     "execution_count": 110,
     "metadata": {},
     "output_type": "execute_result"
    }
   ],
   "source": [
    "bool(\"False\") # Y todas las demás a True "
   ]
  },
  {
   "cell_type": "markdown",
   "metadata": {},
   "source": [
    "#### Clase de los Bytes (bytes class)\n",
    "\n",
    "Semejantes a cadenas, perola secuencia representa bytes:\n",
    "\n",
    "* Las comillas (simples, dobles o triples) vienen antecedidas por `b`\n",
    "* Admite caracteres ASCII. Para el reto hay que introducirlos en hexadecimal `\\xhh`"
   ]
  },
  {
   "cell_type": "code",
   "execution_count": 111,
   "metadata": {},
   "outputs": [
    {
     "name": "stdout",
     "output_type": "stream",
     "text": [
      "áéíóú\n"
     ]
    }
   ],
   "source": [
    "s = \"áéíóú\"\n",
    "print(s)"
   ]
  },
  {
   "cell_type": "code",
   "execution_count": 112,
   "metadata": {},
   "outputs": [
    {
     "name": "stdout",
     "output_type": "stream",
     "text": [
      "b'\\xc3\\xa1\\xc3\\xa9\\xc3\\xad\\xc3\\xb3\\xc3\\xba'\n"
     ]
    }
   ],
   "source": [
    "s_utf8 = s.encode('utf-8') # Codificación utf-8\n",
    "print(s_utf8)"
   ]
  },
  {
   "cell_type": "code",
   "execution_count": 113,
   "metadata": {},
   "outputs": [
    {
     "name": "stdout",
     "output_type": "stream",
     "text": [
      "<class 'bytes'>\n"
     ]
    }
   ],
   "source": [
    "print(type(s_utf8))"
   ]
  },
  {
   "cell_type": "code",
   "execution_count": 114,
   "metadata": {},
   "outputs": [
    {
     "data": {
      "text/plain": [
       "195"
      ]
     },
     "execution_count": 114,
     "metadata": {},
     "output_type": "execute_result"
    }
   ],
   "source": [
    "s_utf8[2]"
   ]
  },
  {
   "cell_type": "code",
   "execution_count": 115,
   "metadata": {},
   "outputs": [
    {
     "name": "stdout",
     "output_type": "stream",
     "text": [
      "b'Hola'\n",
      "72\n"
     ]
    }
   ],
   "source": [
    "bt = b'Hola'\n",
    "print(bt)\n",
    "print(bt[0])"
   ]
  },
  {
   "cell_type": "markdown",
   "metadata": {},
   "source": [
    "#### Clase de las Tuplas (tuple class)\n",
    "\n",
    "Una tupla es una secuencia de objetos arbitrarios separados por comas."
   ]
  },
  {
   "cell_type": "code",
   "execution_count": 116,
   "metadata": {},
   "outputs": [
    {
     "name": "stdout",
     "output_type": "stream",
     "text": [
      "<class 'tuple'>\n"
     ]
    }
   ],
   "source": [
    "t = ()  # tupla vacía\n",
    "print(type(t))"
   ]
  },
  {
   "cell_type": "code",
   "execution_count": 117,
   "metadata": {},
   "outputs": [
    {
     "data": {
      "text/plain": [
       "()"
      ]
     },
     "execution_count": 117,
     "metadata": {},
     "output_type": "execute_result"
    }
   ],
   "source": [
    "tuple() # igual que ()"
   ]
  },
  {
   "cell_type": "code",
   "execution_count": 118,
   "metadata": {},
   "outputs": [
    {
     "data": {
      "text/plain": [
       "False"
      ]
     },
     "execution_count": 118,
     "metadata": {},
     "output_type": "execute_result"
    }
   ],
   "source": [
    "bool(()) # La tupla vacía evalúa a False"
   ]
  },
  {
   "cell_type": "code",
   "execution_count": 119,
   "metadata": {},
   "outputs": [
    {
     "name": "stdout",
     "output_type": "stream",
     "text": [
      "(25,)\n"
     ]
    }
   ],
   "source": [
    "t_1 = 25, # No hacen falta los paréntesis, pero sí la coma final si sólo hay un elemnto en la tupla \n",
    "print(t_1)"
   ]
  },
  {
   "cell_type": "code",
   "execution_count": 120,
   "metadata": {},
   "outputs": [
    {
     "name": "stdout",
     "output_type": "stream",
     "text": [
      "(25, 'hola')\n"
     ]
    }
   ],
   "source": [
    "t2 = 25, \"hola\" # tupla de dos objetos de clases diferentes\n",
    "print(t2)"
   ]
  },
  {
   "cell_type": "code",
   "execution_count": 121,
   "metadata": {},
   "outputs": [
    {
     "data": {
      "text/plain": [
       "2"
      ]
     },
     "execution_count": 121,
     "metadata": {},
     "output_type": "execute_result"
    }
   ],
   "source": [
    "len(t2) # logitud de la tupla"
   ]
  },
  {
   "cell_type": "code",
   "execution_count": 122,
   "metadata": {},
   "outputs": [
    {
     "name": "stdout",
     "output_type": "stream",
     "text": [
      "15 -7\n"
     ]
    }
   ],
   "source": [
    "a, b = 15, -7\n",
    "print(a,b)"
   ]
  },
  {
   "cell_type": "code",
   "execution_count": 123,
   "metadata": {},
   "outputs": [
    {
     "name": "stdout",
     "output_type": "stream",
     "text": [
      "-7 15\n"
     ]
    }
   ],
   "source": [
    "a, b = b, a  # intercambio de variables con asignación de tuplas. MUY HABITUAL con tuplas de cualquier longitud\n",
    "print(a,b)"
   ]
  },
  {
   "cell_type": "code",
   "execution_count": 124,
   "metadata": {},
   "outputs": [],
   "source": [
    "%reset -f"
   ]
  },
  {
   "cell_type": "markdown",
   "metadata": {},
   "source": [
    "### Secuencias mutables\n",
    "\n",
    "Son secuencias de objetos cuyos valores pueden variar. Por lo demás, son semejantes a las secuencias inmutables, pudiéndose indexar por posición y rodajas (slices)\n",
    "\n",
    "La sentencia (*statement*) `del` permite eliminar un índice o una rodaja o *slice*. \n",
    "\n",
    "Se trata de:\n",
    "\n",
    "* Listas\n",
    "* Byte Arrays\n",
    "\n",
    "#### Clase de las Listas (list class)\n",
    "\n",
    "Semejante a las tuplas, pero ahora pueden varias los contenidos"
   ]
  },
  {
   "cell_type": "code",
   "execution_count": 125,
   "metadata": {},
   "outputs": [
    {
     "data": {
      "text/plain": [
       "[]"
      ]
     },
     "execution_count": 125,
     "metadata": {},
     "output_type": "execute_result"
    }
   ],
   "source": [
    "[] # lista vacía"
   ]
  },
  {
   "cell_type": "code",
   "execution_count": 126,
   "metadata": {},
   "outputs": [
    {
     "data": {
      "text/plain": [
       "[]"
      ]
     },
     "execution_count": 126,
     "metadata": {},
     "output_type": "execute_result"
    }
   ],
   "source": [
    "list() # igual que []"
   ]
  },
  {
   "cell_type": "code",
   "execution_count": 127,
   "metadata": {},
   "outputs": [
    {
     "data": {
      "text/plain": [
       "False"
      ]
     },
     "execution_count": 127,
     "metadata": {},
     "output_type": "execute_result"
    }
   ],
   "source": [
    "bool([]) # La lista vacía evalúa a False"
   ]
  },
  {
   "cell_type": "code",
   "execution_count": 128,
   "metadata": {},
   "outputs": [
    {
     "data": {
      "text/plain": [
       "['hola', 2, 3, 4, 'adiós']"
      ]
     },
     "execution_count": 128,
     "metadata": {},
     "output_type": "execute_result"
    }
   ],
   "source": [
    "list((\"hola\", 2, 3, 4, \"adiós\")) # lista a partir de tupla"
   ]
  },
  {
   "cell_type": "code",
   "execution_count": 129,
   "metadata": {},
   "outputs": [
    {
     "data": {
      "text/plain": [
       "['H', 'o', 'l', 'a']"
      ]
     },
     "execution_count": 129,
     "metadata": {},
     "output_type": "execute_result"
    }
   ],
   "source": [
    "list(\"Hola\") # lista a partir de cadena"
   ]
  },
  {
   "cell_type": "code",
   "execution_count": 130,
   "metadata": {},
   "outputs": [],
   "source": [
    "l_a = [1, 3, 5, 7, 9, 11, 13, 15]"
   ]
  },
  {
   "cell_type": "code",
   "execution_count": 131,
   "metadata": {},
   "outputs": [
    {
     "name": "stdout",
     "output_type": "stream",
     "text": [
      "<class 'list'>\n",
      "1903478597448\n"
     ]
    }
   ],
   "source": [
    "print(type(l_a))\n",
    "print(id(l_a))"
   ]
  },
  {
   "cell_type": "code",
   "execution_count": 132,
   "metadata": {},
   "outputs": [
    {
     "name": "stdout",
     "output_type": "stream",
     "text": [
      "1903478597448\n"
     ]
    }
   ],
   "source": [
    "l_a.append(17)\n",
    "print(id(l_a))"
   ]
  },
  {
   "cell_type": "code",
   "execution_count": 133,
   "metadata": {},
   "outputs": [
    {
     "name": "stdout",
     "output_type": "stream",
     "text": [
      "[1, 3, 5, 7, 9, 11, 13, 15, 17, 1, 3, 5]\n"
     ]
    }
   ],
   "source": [
    "l_a.extend([1,3,5])\n",
    "print(l_a)"
   ]
  },
  {
   "cell_type": "code",
   "execution_count": 134,
   "metadata": {},
   "outputs": [
    {
     "data": {
      "text/plain": [
       "12"
      ]
     },
     "execution_count": 134,
     "metadata": {},
     "output_type": "execute_result"
    }
   ],
   "source": [
    "len(l_a)"
   ]
  },
  {
   "cell_type": "code",
   "execution_count": 135,
   "metadata": {},
   "outputs": [
    {
     "data": {
      "text/plain": [
       "2"
      ]
     },
     "execution_count": 135,
     "metadata": {},
     "output_type": "execute_result"
    }
   ],
   "source": [
    "l_a.count(5)"
   ]
  },
  {
   "cell_type": "code",
   "execution_count": 136,
   "metadata": {},
   "outputs": [
    {
     "data": {
      "text/plain": [
       "0"
      ]
     },
     "execution_count": 136,
     "metadata": {},
     "output_type": "execute_result"
    }
   ],
   "source": [
    "l_a.index(1)"
   ]
  },
  {
   "cell_type": "code",
   "execution_count": 137,
   "metadata": {},
   "outputs": [
    {
     "name": "stdout",
     "output_type": "stream",
     "text": [
      "[25, 1, 3, 5, 7, 9, 11, 13, 15, 17, 1, 3, 5]\n"
     ]
    }
   ],
   "source": [
    "l_a.insert(0,25)\n",
    "print(l_a)"
   ]
  },
  {
   "cell_type": "code",
   "execution_count": 138,
   "metadata": {},
   "outputs": [
    {
     "data": {
      "text/plain": [
       "5"
      ]
     },
     "execution_count": 138,
     "metadata": {},
     "output_type": "execute_result"
    }
   ],
   "source": [
    "l_a.pop()"
   ]
  },
  {
   "cell_type": "code",
   "execution_count": 139,
   "metadata": {},
   "outputs": [
    {
     "data": {
      "text/plain": [
       "[25, 1, 3, 5, 7, 9, 11, 13, 15, 17, 1, 3]"
      ]
     },
     "execution_count": 139,
     "metadata": {},
     "output_type": "execute_result"
    }
   ],
   "source": [
    "l_a"
   ]
  },
  {
   "cell_type": "code",
   "execution_count": 140,
   "metadata": {},
   "outputs": [
    {
     "name": "stdout",
     "output_type": "stream",
     "text": [
      "[25, 3, 5, 7, 9, 11, 13, 15, 17, 1, 3]\n"
     ]
    }
   ],
   "source": [
    "l_a.remove(1)\n",
    "print(l_a)"
   ]
  },
  {
   "cell_type": "code",
   "execution_count": 141,
   "metadata": {},
   "outputs": [
    {
     "name": "stdout",
     "output_type": "stream",
     "text": [
      "[25, 3, 5, 7, 9, 11, 13, 15, 17, 1, 3]\n"
     ]
    }
   ],
   "source": [
    "print(l_a)"
   ]
  },
  {
   "cell_type": "code",
   "execution_count": 142,
   "metadata": {},
   "outputs": [
    {
     "name": "stdout",
     "output_type": "stream",
     "text": [
      "[3, 1, 17, 15, 13, 11, 9, 7, 5, 3, 25]\n"
     ]
    }
   ],
   "source": [
    "l_a.reverse()\n",
    "print(l_a)"
   ]
  },
  {
   "cell_type": "code",
   "execution_count": 143,
   "metadata": {},
   "outputs": [
    {
     "data": {
      "text/plain": [
       "[1, 3, 3, 5, 7, 9, 11, 13, 15, 17, 25]"
      ]
     },
     "execution_count": 143,
     "metadata": {},
     "output_type": "execute_result"
    }
   ],
   "source": [
    "sorted(l_a)"
   ]
  },
  {
   "cell_type": "code",
   "execution_count": 144,
   "metadata": {},
   "outputs": [
    {
     "data": {
      "text/plain": [
       "[3, 1, 17, 15, 13, 11, 9, 7, 5, 3, 25]"
      ]
     },
     "execution_count": 144,
     "metadata": {},
     "output_type": "execute_result"
    }
   ],
   "source": [
    "l_a"
   ]
  },
  {
   "cell_type": "code",
   "execution_count": 145,
   "metadata": {},
   "outputs": [
    {
     "data": {
      "text/plain": [
       "1"
      ]
     },
     "execution_count": 145,
     "metadata": {},
     "output_type": "execute_result"
    }
   ],
   "source": [
    "min(l_a)"
   ]
  },
  {
   "cell_type": "code",
   "execution_count": 146,
   "metadata": {},
   "outputs": [
    {
     "data": {
      "text/plain": [
       "25"
      ]
     },
     "execution_count": 146,
     "metadata": {},
     "output_type": "execute_result"
    }
   ],
   "source": [
    "max(l_a)"
   ]
  },
  {
   "cell_type": "code",
   "execution_count": 147,
   "metadata": {},
   "outputs": [
    {
     "data": {
      "text/plain": [
       "109"
      ]
     },
     "execution_count": 147,
     "metadata": {},
     "output_type": "execute_result"
    }
   ],
   "source": [
    "sum(l_a)"
   ]
  },
  {
   "cell_type": "code",
   "execution_count": 148,
   "metadata": {},
   "outputs": [
    {
     "name": "stdout",
     "output_type": "stream",
     "text": [
      "[1, 3, 3, 5, 7, 9, 11, 13, 15, 17, 25]\n"
     ]
    }
   ],
   "source": [
    "l_a.sort()\n",
    "print(l_a)"
   ]
  },
  {
   "cell_type": "code",
   "execution_count": 149,
   "metadata": {},
   "outputs": [
    {
     "data": {
      "text/plain": [
       "[3, 7, 11, 15]"
      ]
     },
     "execution_count": 149,
     "metadata": {},
     "output_type": "execute_result"
    }
   ],
   "source": [
    "l_a[2:10:2]"
   ]
  },
  {
   "cell_type": "code",
   "execution_count": 150,
   "metadata": {},
   "outputs": [
    {
     "name": "stdout",
     "output_type": "stream",
     "text": [
      "[1, 3, 3, 5, 7, 9, 11, 13, 15, 17, 25]\n"
     ]
    }
   ],
   "source": [
    "print(l_a)"
   ]
  },
  {
   "cell_type": "code",
   "execution_count": 151,
   "metadata": {},
   "outputs": [],
   "source": [
    "del l_a[2:10:2] # eliminar rodaja o \"slice\""
   ]
  },
  {
   "cell_type": "code",
   "execution_count": 152,
   "metadata": {},
   "outputs": [
    {
     "data": {
      "text/plain": [
       "[1, 3, 5, 9, 13, 17, 25, 'h', 'o', 'l', 'a']"
      ]
     },
     "execution_count": 152,
     "metadata": {},
     "output_type": "execute_result"
    }
   ],
   "source": [
    "l_a+list('hola')"
   ]
  },
  {
   "cell_type": "code",
   "execution_count": 153,
   "metadata": {},
   "outputs": [
    {
     "data": {
      "text/plain": [
       "[1, 3, 5, 9, 13, 17, 25, 1, 3, 5, 9, 13, 17, 25]"
      ]
     },
     "execution_count": 153,
     "metadata": {},
     "output_type": "execute_result"
    }
   ],
   "source": [
    "l_a*2"
   ]
  },
  {
   "cell_type": "markdown",
   "metadata": {},
   "source": [
    "#### Clase de los Byte Arrays (byte array class)\n",
    "\n",
    "Versión mutable de la clase de los bytes.\n",
    "\n",
    "Útiles para trabajar con sockets"
   ]
  },
  {
   "cell_type": "code",
   "execution_count": 154,
   "metadata": {},
   "outputs": [
    {
     "data": {
      "text/plain": [
       "bytearray(b'')"
      ]
     },
     "execution_count": 154,
     "metadata": {},
     "output_type": "execute_result"
    }
   ],
   "source": [
    "bytearray() # bytearray vacío"
   ]
  },
  {
   "cell_type": "code",
   "execution_count": 155,
   "metadata": {},
   "outputs": [
    {
     "data": {
      "text/plain": [
       "bytearray(b'\\x00\\x00\\x00\\x00\\x00\\x00\\x00\\x00\\x00\\x00')"
      ]
     },
     "execution_count": 155,
     "metadata": {},
     "output_type": "execute_result"
    }
   ],
   "source": [
    "bytearray(10) # byte array de ceros y longitud 10"
   ]
  },
  {
   "cell_type": "code",
   "execution_count": 156,
   "metadata": {},
   "outputs": [
    {
     "data": {
      "text/plain": [
       "bytearray(b'\\x01\\x03\\x05')"
      ]
     },
     "execution_count": 156,
     "metadata": {},
     "output_type": "execute_result"
    }
   ],
   "source": [
    "bytearray([1,3,5])"
   ]
  },
  {
   "cell_type": "code",
   "execution_count": 157,
   "metadata": {},
   "outputs": [],
   "source": [
    "%reset -f"
   ]
  },
  {
   "cell_type": "markdown",
   "metadata": {},
   "source": [
    "### Colecciones\n",
    "\n",
    "Se trata de conjutnos de objetos en los que no hay establecido una ordenación a priori. Son:\n",
    "\n",
    "* Conjuntos \n",
    "* Conjuntos inmutables\n",
    "* Diccionarios\n",
    "\n",
    "#### Clase de los Conjuntos Mutables (set class)"
   ]
  },
  {
   "cell_type": "code",
   "execution_count": 158,
   "metadata": {},
   "outputs": [],
   "source": [
    "conjunto = set() # conjunto vacío"
   ]
  },
  {
   "cell_type": "code",
   "execution_count": 159,
   "metadata": {},
   "outputs": [
    {
     "name": "stdout",
     "output_type": "stream",
     "text": [
      "set()\n"
     ]
    }
   ],
   "source": [
    "print(conjunto)"
   ]
  },
  {
   "cell_type": "code",
   "execution_count": 160,
   "metadata": {},
   "outputs": [],
   "source": [
    "conjunto.add(1)"
   ]
  },
  {
   "cell_type": "code",
   "execution_count": 161,
   "metadata": {},
   "outputs": [
    {
     "name": "stdout",
     "output_type": "stream",
     "text": [
      "{1}\n"
     ]
    }
   ],
   "source": [
    "print(conjunto)"
   ]
  },
  {
   "cell_type": "code",
   "execution_count": 162,
   "metadata": {},
   "outputs": [],
   "source": [
    "conjunto2 = set([1,3,5,7])"
   ]
  },
  {
   "cell_type": "code",
   "execution_count": 163,
   "metadata": {},
   "outputs": [],
   "source": [
    "conjunto3 = {2,4,6}"
   ]
  },
  {
   "cell_type": "code",
   "execution_count": 164,
   "metadata": {},
   "outputs": [
    {
     "data": {
      "text/plain": [
       "{1, 2, 3, 4, 5, 6, 7}"
      ]
     },
     "execution_count": 164,
     "metadata": {},
     "output_type": "execute_result"
    }
   ],
   "source": [
    "conjunto2 | conjunto3  # Unión de conjuntos"
   ]
  },
  {
   "cell_type": "code",
   "execution_count": 165,
   "metadata": {},
   "outputs": [
    {
     "data": {
      "text/plain": [
       "{1, 3, 5, 7}"
      ]
     },
     "execution_count": 165,
     "metadata": {},
     "output_type": "execute_result"
    }
   ],
   "source": [
    "conjunto | conjunto2  # Unión de conjuntos (no se repiten elementos)"
   ]
  },
  {
   "cell_type": "code",
   "execution_count": 166,
   "metadata": {},
   "outputs": [
    {
     "data": {
      "text/plain": [
       "{1}"
      ]
     },
     "execution_count": 166,
     "metadata": {},
     "output_type": "execute_result"
    }
   ],
   "source": [
    "conjunto & conjunto2 # Interesección de conjuntos"
   ]
  },
  {
   "cell_type": "code",
   "execution_count": 167,
   "metadata": {},
   "outputs": [
    {
     "data": {
      "text/plain": [
       "set()"
      ]
     },
     "execution_count": 167,
     "metadata": {},
     "output_type": "execute_result"
    }
   ],
   "source": [
    "conjunto2 & conjunto3 # Interesección de conjuntos"
   ]
  },
  {
   "cell_type": "code",
   "execution_count": 168,
   "metadata": {},
   "outputs": [
    {
     "data": {
      "text/plain": [
       "{3, 5, 7}"
      ]
     },
     "execution_count": 168,
     "metadata": {},
     "output_type": "execute_result"
    }
   ],
   "source": [
    "conjunto2 - conjunto # Diferencia de conjuntos"
   ]
  },
  {
   "cell_type": "code",
   "execution_count": 169,
   "metadata": {},
   "outputs": [
    {
     "data": {
      "text/plain": [
       "set()"
      ]
     },
     "execution_count": 169,
     "metadata": {},
     "output_type": "execute_result"
    }
   ],
   "source": [
    "conjunto -conjunto2"
   ]
  },
  {
   "cell_type": "code",
   "execution_count": 170,
   "metadata": {},
   "outputs": [
    {
     "data": {
      "text/plain": [
       "4"
      ]
     },
     "execution_count": 170,
     "metadata": {},
     "output_type": "execute_result"
    }
   ],
   "source": [
    "len(conjunto2) # cardinal del conjunto"
   ]
  },
  {
   "cell_type": "code",
   "execution_count": 171,
   "metadata": {},
   "outputs": [
    {
     "name": "stdout",
     "output_type": "stream",
     "text": [
      "{1, 3, 5}\n"
     ]
    }
   ],
   "source": [
    "conjunto2.remove(7)\n",
    "print(conjunto2)"
   ]
  },
  {
   "cell_type": "code",
   "execution_count": 172,
   "metadata": {},
   "outputs": [
    {
     "data": {
      "text/plain": [
       "['__and__',\n",
       " '__class__',\n",
       " '__contains__',\n",
       " '__delattr__',\n",
       " '__dir__',\n",
       " '__doc__',\n",
       " '__eq__',\n",
       " '__format__',\n",
       " '__ge__',\n",
       " '__getattribute__',\n",
       " '__gt__',\n",
       " '__hash__',\n",
       " '__iand__',\n",
       " '__init__',\n",
       " '__init_subclass__',\n",
       " '__ior__',\n",
       " '__isub__',\n",
       " '__iter__',\n",
       " '__ixor__',\n",
       " '__le__',\n",
       " '__len__',\n",
       " '__lt__',\n",
       " '__ne__',\n",
       " '__new__',\n",
       " '__or__',\n",
       " '__rand__',\n",
       " '__reduce__',\n",
       " '__reduce_ex__',\n",
       " '__repr__',\n",
       " '__ror__',\n",
       " '__rsub__',\n",
       " '__rxor__',\n",
       " '__setattr__',\n",
       " '__sizeof__',\n",
       " '__str__',\n",
       " '__sub__',\n",
       " '__subclasshook__',\n",
       " '__xor__',\n",
       " 'add',\n",
       " 'clear',\n",
       " 'copy',\n",
       " 'difference',\n",
       " 'difference_update',\n",
       " 'discard',\n",
       " 'intersection',\n",
       " 'intersection_update',\n",
       " 'isdisjoint',\n",
       " 'issubset',\n",
       " 'issuperset',\n",
       " 'pop',\n",
       " 'remove',\n",
       " 'symmetric_difference',\n",
       " 'symmetric_difference_update',\n",
       " 'union',\n",
       " 'update']"
      ]
     },
     "execution_count": 172,
     "metadata": {},
     "output_type": "execute_result"
    }
   ],
   "source": [
    "dir(conjunto)"
   ]
  },
  {
   "cell_type": "markdown",
   "metadata": {},
   "source": [
    "#### Clase de los Conjuntos Inmutables (frozenset class)"
   ]
  },
  {
   "cell_type": "code",
   "execution_count": 173,
   "metadata": {},
   "outputs": [],
   "source": [
    "conjunto3 =frozenset([1,5])"
   ]
  },
  {
   "cell_type": "code",
   "execution_count": 174,
   "metadata": {},
   "outputs": [
    {
     "data": {
      "text/plain": [
       "{1, 3, 5}"
      ]
     },
     "execution_count": 174,
     "metadata": {},
     "output_type": "execute_result"
    }
   ],
   "source": [
    "conjunto2 | conjunto3"
   ]
  },
  {
   "cell_type": "code",
   "execution_count": 175,
   "metadata": {},
   "outputs": [
    {
     "data": {
      "text/plain": [
       "{1, 5}"
      ]
     },
     "execution_count": 175,
     "metadata": {},
     "output_type": "execute_result"
    }
   ],
   "source": [
    "conjunto2 & conjunto3"
   ]
  },
  {
   "cell_type": "markdown",
   "metadata": {},
   "source": [
    "#### Clase de los Diccionarios (dict class) o de Tablas de Correspondencia\n",
    "\n",
    "Los diccionarios son objetos mutables que hacen corresponder claves (keys) a valores.\n",
    "\n",
    "Los elementos de un diccionario no están ordenados.\n",
    "\n",
    "El tamaño del diccionario puede obtenerse con `len()`y cualquier entrada puede eliminarse con la sentencia `del`."
   ]
  },
  {
   "cell_type": "code",
   "execution_count": 176,
   "metadata": {},
   "outputs": [],
   "source": [
    "dic_a = dict(Nombre='Pepe',Apellido='Pérez')"
   ]
  },
  {
   "cell_type": "code",
   "execution_count": 177,
   "metadata": {},
   "outputs": [
    {
     "name": "stdout",
     "output_type": "stream",
     "text": [
      "<class 'dict'>\n"
     ]
    }
   ],
   "source": [
    "print(type(dic_a))"
   ]
  },
  {
   "cell_type": "code",
   "execution_count": 178,
   "metadata": {},
   "outputs": [
    {
     "name": "stdout",
     "output_type": "stream",
     "text": [
      "{'Nombre': 'Pepe', 'Apellido': 'Pérez'}\n"
     ]
    }
   ],
   "source": [
    "print(dic_a)"
   ]
  },
  {
   "cell_type": "code",
   "execution_count": 179,
   "metadata": {},
   "outputs": [
    {
     "data": {
      "text/plain": [
       "2"
      ]
     },
     "execution_count": 179,
     "metadata": {},
     "output_type": "execute_result"
    }
   ],
   "source": [
    "len(dic_a)"
   ]
  },
  {
   "cell_type": "code",
   "execution_count": 180,
   "metadata": {},
   "outputs": [],
   "source": [
    "dic_b = {'Nombre': 'Pepe', 'Apellido': 'Pérez'}"
   ]
  },
  {
   "cell_type": "code",
   "execution_count": 181,
   "metadata": {},
   "outputs": [
    {
     "name": "stdout",
     "output_type": "stream",
     "text": [
      "{'Nombre': 'Pepe', 'Apellido': 'Pérez'}\n"
     ]
    }
   ],
   "source": [
    "print(dic_b)"
   ]
  },
  {
   "cell_type": "code",
   "execution_count": 182,
   "metadata": {},
   "outputs": [
    {
     "name": "stdout",
     "output_type": "stream",
     "text": [
      "1903478591424\n",
      "1903478437208\n"
     ]
    }
   ],
   "source": [
    "print(id(dic_a))\n",
    "print(id(dic_b))"
   ]
  },
  {
   "cell_type": "code",
   "execution_count": 183,
   "metadata": {},
   "outputs": [
    {
     "data": {
      "text/plain": [
       "True"
      ]
     },
     "execution_count": 183,
     "metadata": {},
     "output_type": "execute_result"
    }
   ],
   "source": [
    "dic_a==dic_b"
   ]
  },
  {
   "cell_type": "code",
   "execution_count": 184,
   "metadata": {},
   "outputs": [
    {
     "data": {
      "text/plain": [
       "False"
      ]
     },
     "execution_count": 184,
     "metadata": {},
     "output_type": "execute_result"
    }
   ],
   "source": [
    "dic_a is dic_b"
   ]
  },
  {
   "cell_type": "code",
   "execution_count": 185,
   "metadata": {},
   "outputs": [
    {
     "data": {
      "text/plain": [
       "True"
      ]
     },
     "execution_count": 185,
     "metadata": {},
     "output_type": "execute_result"
    }
   ],
   "source": [
    "'Nombre' in dic_b"
   ]
  },
  {
   "cell_type": "code",
   "execution_count": 186,
   "metadata": {},
   "outputs": [
    {
     "data": {
      "text/plain": [
       "'Pérez'"
      ]
     },
     "execution_count": 186,
     "metadata": {},
     "output_type": "execute_result"
    }
   ],
   "source": [
    "dic_a['Apellido']"
   ]
  },
  {
   "cell_type": "code",
   "execution_count": 187,
   "metadata": {},
   "outputs": [
    {
     "data": {
      "text/plain": [
       "dict_keys(['Nombre', 'Apellido'])"
      ]
     },
     "execution_count": 187,
     "metadata": {},
     "output_type": "execute_result"
    }
   ],
   "source": [
    "dic_a.keys() # lista de claves"
   ]
  },
  {
   "cell_type": "code",
   "execution_count": 188,
   "metadata": {},
   "outputs": [
    {
     "data": {
      "text/plain": [
       "dict_values(['Pepe', 'Pérez'])"
      ]
     },
     "execution_count": 188,
     "metadata": {},
     "output_type": "execute_result"
    }
   ],
   "source": [
    "dic_a.values() # lista de valores"
   ]
  },
  {
   "cell_type": "code",
   "execution_count": 189,
   "metadata": {},
   "outputs": [
    {
     "data": {
      "text/plain": [
       "dict_items([('Nombre', 'Pepe'), ('Apellido', 'Pérez')])"
      ]
     },
     "execution_count": 189,
     "metadata": {},
     "output_type": "execute_result"
    }
   ],
   "source": [
    "dic_a.items() # lista de tuplas (clave, valor)"
   ]
  },
  {
   "cell_type": "code",
   "execution_count": 190,
   "metadata": {},
   "outputs": [],
   "source": [
    "dic_a['Edad'] = 35"
   ]
  },
  {
   "cell_type": "code",
   "execution_count": 191,
   "metadata": {},
   "outputs": [
    {
     "name": "stdout",
     "output_type": "stream",
     "text": [
      "{'Nombre': 'Pepe', 'Apellido': 'Pérez', 'Edad': 35}\n"
     ]
    }
   ],
   "source": [
    "print(dic_a)"
   ]
  },
  {
   "cell_type": "code",
   "execution_count": 192,
   "metadata": {},
   "outputs": [],
   "source": [
    "del dic_a['Edad'] # borrado de una entrada"
   ]
  },
  {
   "cell_type": "code",
   "execution_count": 193,
   "metadata": {},
   "outputs": [
    {
     "name": "stdout",
     "output_type": "stream",
     "text": [
      "{'Nombre': 'Pepe', 'Apellido': 'Pérez'}\n"
     ]
    }
   ],
   "source": [
    "print(dic_a)"
   ]
  },
  {
   "cell_type": "code",
   "execution_count": 194,
   "metadata": {},
   "outputs": [],
   "source": [
    "dic_a.clear()"
   ]
  },
  {
   "cell_type": "code",
   "execution_count": 195,
   "metadata": {},
   "outputs": [
    {
     "name": "stdout",
     "output_type": "stream",
     "text": [
      "{}\n"
     ]
    }
   ],
   "source": [
    "print(dic_a)"
   ]
  },
  {
   "cell_type": "code",
   "execution_count": 196,
   "metadata": {},
   "outputs": [],
   "source": [
    "%reset -f"
   ]
  },
  {
   "cell_type": "markdown",
   "metadata": {},
   "source": [
    "## Sentencias de control del código\n",
    "\n",
    "En Python la identación es obligatoria para determinar la pertenencia de un código a una estructura u otra. No se utilizan para ello delimitadores, a diferencia de otros lenguajes.\n",
    "\n",
    "Sintácticamente sólo se exige que haya coherencia en el número de espacios de cada nivel.\n",
    "\n",
    "Se recomienda utilizar `cuatro espacios en blanco`para cada nivel y <u>NO utilizar el tabulador</u>\n",
    "\n",
    "### Programación condicional\n",
    "\n",
    "* `if elif else`\n",
    "* Operador ternario"
   ]
  },
  {
   "cell_type": "code",
   "execution_count": 197,
   "metadata": {},
   "outputs": [
    {
     "name": "stdout",
     "output_type": "stream",
     "text": [
      "Sueldo bajo\n"
     ]
    }
   ],
   "source": [
    "sueldo = 10000\n",
    "\n",
    "if sueldo <= 25000:\n",
    "    print('Sueldo bajo')\n",
    "elif 25000 < sueldo <= 50000:\n",
    "    print('Sueldo Medio')\n",
    "elif 50000 < sueldo <=100000:\n",
    "    print('Sueldo alto')\n",
    "else:\n",
    "    print('¿Da el dinero la felicidad?')"
   ]
  },
  {
   "cell_type": "code",
   "execution_count": 198,
   "metadata": {},
   "outputs": [
    {
     "data": {
      "text/plain": [
       "'espero que feliz'"
      ]
     },
     "execution_count": 198,
     "metadata": {},
     "output_type": "execute_result"
    }
   ],
   "source": [
    "'rico' if sueldo > 100000 else 'espero que feliz' # Operador ternario"
   ]
  },
  {
   "cell_type": "code",
   "execution_count": 199,
   "metadata": {},
   "outputs": [
    {
     "name": "stdout",
     "output_type": "stream",
     "text": [
      "espero que feliz\n"
     ]
    }
   ],
   "source": [
    "print('rico' if sueldo > 100000 else 'espero que feliz')"
   ]
  },
  {
   "cell_type": "markdown",
   "metadata": {},
   "source": [
    "### Lazos e iteraciones \n",
    "\n",
    "Un ** objeto iterable** es un objeto que es capaz de devolver sus componentes uno a uno, cada vez que se le pide. Son iterables\n",
    "\n",
    "* Todas las secuencias, tales como listas, cadenas y tuplas\n",
    "* Colecciones como conjuntos y diccionarios\n",
    "* Incluso otros objetos\n",
    "\n",
    "Los objetos iterables pueden utilizarse dentro de lazos y de funciones que requieran secuencias.\n",
    "\n",
    "Un **objeto iterador** se constryue a partir de un objeto iterable con `iter()`y no almacena simultáneamente en memoria todo el iterable, sino que va proporcionando sus valores cada vez que se le requiere con su método `__next()__`. De hecho, los lazos hacen esto automáticamente\n",
    "\n",
    "Algunas clases de objetos iteradores útiles en la práctica:\n",
    "\n",
    "* Iterador: list_iterator class, set_ iterator class, str_iterator class,...\n",
    "* Rango: range class\n",
    "* Enumerador: enumerate class\n",
    "* Mezcla de secuencias: zip class"
   ]
  },
  {
   "cell_type": "markdown",
   "metadata": {},
   "source": [
    "#### Lazo for\n",
    "\n",
    "Puede alterarse el flujo con sentencias `continue`, `break` y `else`"
   ]
  },
  {
   "cell_type": "code",
   "execution_count": 200,
   "metadata": {},
   "outputs": [
    {
     "name": "stdout",
     "output_type": "stream",
     "text": [
      "0\n",
      "1\n",
      "2\n",
      "3\n",
      "4\n"
     ]
    }
   ],
   "source": [
    "for num in [0,1,2,3,4]: # Iterando sobre una lista\n",
    "    print(num)"
   ]
  },
  {
   "cell_type": "code",
   "execution_count": 201,
   "metadata": {},
   "outputs": [
    {
     "name": "stdout",
     "output_type": "stream",
     "text": [
      "0\n",
      "1\n",
      "Nos saltamos el 2\n",
      "3\n",
      "4\n",
      "Salida del lazo sin romperlo\n"
     ]
    }
   ],
   "source": [
    "for num in [0,1,2,3,4]: # Alterando el flujop con break y continue\n",
    "    if num == 2:\n",
    "        print('Nos saltamos el 2')\n",
    "        continue\n",
    "    if num < 0:\n",
    "        print('Cualquier número negativo rompe el lazo')\n",
    "        break\n",
    "    print(num)\n",
    "else:\n",
    "    print(\"Salida del lazo sin romperlo\")"
   ]
  },
  {
   "cell_type": "code",
   "execution_count": 202,
   "metadata": {},
   "outputs": [
    {
     "name": "stdout",
     "output_type": "stream",
     "text": [
      "0\n",
      "1\n",
      "2\n",
      "3\n",
      "4\n"
     ]
    }
   ],
   "source": [
    "for num in 0,1,2,3,4: # Iterando sobre una tupla\n",
    "    print(num)"
   ]
  },
  {
   "cell_type": "code",
   "execution_count": 203,
   "metadata": {},
   "outputs": [
    {
     "name": "stdout",
     "output_type": "stream",
     "text": [
      "P\n",
      "y\n",
      "t\n",
      "h\n",
      "o\n",
      "n\n"
     ]
    }
   ],
   "source": [
    "for letra in 'Python': # Iterando sobre una cadena\n",
    "    print(letra)"
   ]
  },
  {
   "cell_type": "code",
   "execution_count": 204,
   "metadata": {},
   "outputs": [
    {
     "name": "stdout",
     "output_type": "stream",
     "text": [
      "Pedro\n",
      "María\n",
      "Lola\n",
      "Juan\n",
      "Marta\n"
     ]
    }
   ],
   "source": [
    "for nom in ['Pedro', 'María', 'Lola', 'Juan', 'Marta']: # Iterando sobre una lista de cadenas\n",
    "    print(nom)"
   ]
  },
  {
   "cell_type": "code",
   "execution_count": 205,
   "metadata": {},
   "outputs": [
    {
     "name": "stdout",
     "output_type": "stream",
     "text": [
      "0\n",
      "1\n",
      "2\n",
      "3\n",
      "4\n"
     ]
    }
   ],
   "source": [
    "for num in set([0,1,2,3,4]): # Iterando sobre un conjunto\n",
    "    print(num)"
   ]
  },
  {
   "cell_type": "code",
   "execution_count": 206,
   "metadata": {},
   "outputs": [
    {
     "name": "stdout",
     "output_type": "stream",
     "text": [
      "Nombre :  Pepe\n",
      "Apellido :  Pérez\n",
      "Edad :  35\n"
     ]
    }
   ],
   "source": [
    "dic = {'Nombre': 'Pepe', 'Apellido': 'Pérez', \"Edad\": 35} # Iterando sobre un diccionario\n",
    "for entrada in  dic: # Iterando sobre un diccionario\n",
    "    print(entrada, ': ', dic[entrada])"
   ]
  },
  {
   "cell_type": "code",
   "execution_count": 207,
   "metadata": {},
   "outputs": [
    {
     "name": "stdout",
     "output_type": "stream",
     "text": [
      "Nombre: Pepe\n",
      "Apellido: Pérez\n",
      "Edad: 35\n"
     ]
    }
   ],
   "source": [
    "for key, val in  {'Nombre': 'Pepe', 'Apellido': 'Pérez', \"Edad\": 35}.items(): # Iterando sobre un diccionario \n",
    "    print(key + \": \" + str(val))"
   ]
  },
  {
   "cell_type": "code",
   "execution_count": 208,
   "metadata": {},
   "outputs": [
    {
     "name": "stdout",
     "output_type": "stream",
     "text": [
      "Lola\n",
      "L\n",
      "o\n",
      "l\n",
      "a\n",
      "Juan\n",
      "J\n",
      "u\n",
      "a\n",
      "n\n"
     ]
    }
   ],
   "source": [
    "for nom in ['Lola', 'Juan']: # Bucle anidado\n",
    "    print(nom)\n",
    "    for letra in nom:\n",
    "        print(letra)"
   ]
  },
  {
   "cell_type": "code",
   "execution_count": 209,
   "metadata": {},
   "outputs": [
    {
     "name": "stdout",
     "output_type": "stream",
     "text": [
      "<class 'set_iterator'>\n"
     ]
    }
   ],
   "source": [
    "print(type(iter(set([1,2,3]))))"
   ]
  },
  {
   "cell_type": "code",
   "execution_count": 210,
   "metadata": {},
   "outputs": [
    {
     "name": "stdout",
     "output_type": "stream",
     "text": [
      "<class 'str_iterator'>\n"
     ]
    }
   ],
   "source": [
    "print(type(iter('hola')))"
   ]
  },
  {
   "cell_type": "code",
   "execution_count": 211,
   "metadata": {},
   "outputs": [
    {
     "name": "stdout",
     "output_type": "stream",
     "text": [
      "<class 'list_iterator'>\n"
     ]
    }
   ],
   "source": [
    "iter_num = iter([0,1,2])\n",
    "print(type(iter_num))"
   ]
  },
  {
   "cell_type": "code",
   "execution_count": 212,
   "metadata": {},
   "outputs": [
    {
     "data": {
      "text/plain": [
       "0"
      ]
     },
     "execution_count": 212,
     "metadata": {},
     "output_type": "execute_result"
    }
   ],
   "source": [
    "iter_num.__next__()"
   ]
  },
  {
   "cell_type": "code",
   "execution_count": 213,
   "metadata": {},
   "outputs": [
    {
     "data": {
      "text/plain": [
       "1"
      ]
     },
     "execution_count": 213,
     "metadata": {},
     "output_type": "execute_result"
    }
   ],
   "source": [
    "iter_num.__next__()"
   ]
  },
  {
   "cell_type": "code",
   "execution_count": 214,
   "metadata": {},
   "outputs": [
    {
     "data": {
      "text/plain": [
       "2"
      ]
     },
     "execution_count": 214,
     "metadata": {},
     "output_type": "execute_result"
    }
   ],
   "source": [
    "iter_num.__next__()"
   ]
  },
  {
   "cell_type": "code",
   "execution_count": 215,
   "metadata": {},
   "outputs": [],
   "source": [
    "# iter_num.__next__()"
   ]
  },
  {
   "cell_type": "code",
   "execution_count": 216,
   "metadata": {},
   "outputs": [
    {
     "data": {
      "text/plain": [
       "[]"
      ]
     },
     "execution_count": 216,
     "metadata": {},
     "output_type": "execute_result"
    }
   ],
   "source": [
    "list(iter_num) # iterador agotado"
   ]
  },
  {
   "cell_type": "code",
   "execution_count": 217,
   "metadata": {},
   "outputs": [
    {
     "data": {
      "text/plain": [
       "[0, 1, 2]"
      ]
     },
     "execution_count": 217,
     "metadata": {},
     "output_type": "execute_result"
    }
   ],
   "source": [
    "iter_num = iter([0,1,2])\n",
    "list(iter_num)"
   ]
  },
  {
   "cell_type": "code",
   "execution_count": 218,
   "metadata": {},
   "outputs": [
    {
     "data": {
      "text/plain": [
       "[]"
      ]
     },
     "execution_count": 218,
     "metadata": {},
     "output_type": "execute_result"
    }
   ],
   "source": [
    "list(iter_num)"
   ]
  },
  {
   "cell_type": "code",
   "execution_count": 219,
   "metadata": {},
   "outputs": [],
   "source": [
    "rango = range(0,5,2)"
   ]
  },
  {
   "cell_type": "code",
   "execution_count": 220,
   "metadata": {},
   "outputs": [
    {
     "name": "stdout",
     "output_type": "stream",
     "text": [
      "<class 'range'>\n"
     ]
    }
   ],
   "source": [
    "print(type(rango))"
   ]
  },
  {
   "cell_type": "code",
   "execution_count": 221,
   "metadata": {},
   "outputs": [
    {
     "data": {
      "text/plain": [
       "range(0, 5, 2)"
      ]
     },
     "execution_count": 221,
     "metadata": {},
     "output_type": "execute_result"
    }
   ],
   "source": [
    "rango"
   ]
  },
  {
   "cell_type": "code",
   "execution_count": 222,
   "metadata": {},
   "outputs": [
    {
     "name": "stdout",
     "output_type": "stream",
     "text": [
      "0\n",
      "2\n",
      "4\n"
     ]
    }
   ],
   "source": [
    "for num in rango:\n",
    "    print(num)"
   ]
  },
  {
   "cell_type": "code",
   "execution_count": 223,
   "metadata": {},
   "outputs": [],
   "source": [
    "enum_nombres = enumerate( ['Pedro', 'María', 'Lola', 'Juan', 'Marta'])"
   ]
  },
  {
   "cell_type": "code",
   "execution_count": 224,
   "metadata": {},
   "outputs": [
    {
     "name": "stdout",
     "output_type": "stream",
     "text": [
      "<class 'enumerate'>\n"
     ]
    }
   ],
   "source": [
    "print(type(enum_nombres))"
   ]
  },
  {
   "cell_type": "code",
   "execution_count": 225,
   "metadata": {},
   "outputs": [
    {
     "data": {
      "text/plain": [
       "[(0, 'Pedro'), (1, 'María'), (2, 'Lola'), (3, 'Juan'), (4, 'Marta')]"
      ]
     },
     "execution_count": 225,
     "metadata": {},
     "output_type": "execute_result"
    }
   ],
   "source": [
    "list(enum_nombres) # agota la enumeracoión. Ya no podemos utilizar el mismo objeto"
   ]
  },
  {
   "cell_type": "code",
   "execution_count": 226,
   "metadata": {},
   "outputs": [
    {
     "name": "stdout",
     "output_type": "stream",
     "text": [
      "0 Pedro\n",
      "1 María\n",
      "2 Lola\n",
      "3 Juan\n",
      "4 Marta\n"
     ]
    }
   ],
   "source": [
    "for ind, nom in enumerate( ['Pedro', 'María', 'Lola', 'Juan', 'Marta']):\n",
    "    print(ind, nom)"
   ]
  },
  {
   "cell_type": "code",
   "execution_count": 227,
   "metadata": {},
   "outputs": [],
   "source": [
    "zip_nom_edad = zip(['Pedro', 'María', 'Lola', 'Juan', 'Marta'], [30, 25, 45, 35], ['Madrid', 'Santa Cruz', 'Las Palmas'])"
   ]
  },
  {
   "cell_type": "code",
   "execution_count": 228,
   "metadata": {},
   "outputs": [
    {
     "name": "stdout",
     "output_type": "stream",
     "text": [
      "<class 'zip'>\n"
     ]
    }
   ],
   "source": [
    "print(type(zip_nom_edad))"
   ]
  },
  {
   "cell_type": "code",
   "execution_count": 229,
   "metadata": {},
   "outputs": [
    {
     "data": {
      "text/plain": [
       "[('Pedro', 30, 'Madrid'),\n",
       " ('María', 25, 'Santa Cruz'),\n",
       " ('Lola', 45, 'Las Palmas')]"
      ]
     },
     "execution_count": 229,
     "metadata": {},
     "output_type": "execute_result"
    }
   ],
   "source": [
    "list(zip_nom_edad)"
   ]
  },
  {
   "cell_type": "code",
   "execution_count": 230,
   "metadata": {},
   "outputs": [
    {
     "name": "stdout",
     "output_type": "stream",
     "text": [
      "Pedro 30 Madrid\n",
      "María 25 Santa Cruz\n",
      "Lola 45 Las Palmas\n"
     ]
    }
   ],
   "source": [
    "for nom, edad, ciudad in zip(['Pedro', 'María', 'Lola', 'Juan', 'Marta'], \n",
    "                             [30, 25, 45, 35], ['Madrid', 'Santa Cruz', 'Las Palmas']):\n",
    "    print(nom, edad, ciudad)"
   ]
  },
  {
   "cell_type": "markdown",
   "metadata": {},
   "source": [
    "#### Lazo while\n",
    "\n",
    "Pueden utilizarse `continue`, `break`y `else`igual que en el lazo `for`"
   ]
  },
  {
   "cell_type": "code",
   "execution_count": 231,
   "metadata": {},
   "outputs": [
    {
     "name": "stdout",
     "output_type": "stream",
     "text": [
      "1\n",
      "2\n",
      "Nos saltampos el 2\n",
      "4\n",
      "5\n",
      "Salida del lazo while sin romperlo\n"
     ]
    }
   ],
   "source": [
    "ind = 0 # cambiar para ver resultados\n",
    "while ind <5:\n",
    "    ind +=1\n",
    "    if ind<0:\n",
    "        print('No se admiten impresiones negativas')\n",
    "        break\n",
    "    if ind==3:\n",
    "        print('Nos saltampos el 2')\n",
    "        continue\n",
    "    print(ind)\n",
    "else:\n",
    "    print('Salida del lazo while sin romperlo')"
   ]
  },
  {
   "cell_type": "code",
   "execution_count": 232,
   "metadata": {},
   "outputs": [],
   "source": [
    "%reset -f"
   ]
  },
  {
   "cell_type": "markdown",
   "metadata": {},
   "source": [
    "### Definición de Secuencias por Comprensión\n",
    "\n",
    "* Comprensiones de listas (list comprehensions)\n",
    "* Comprensiones de conjuntos (set comprehensions)\n",
    "* Comprensiones de diccionarios (dictionary comprehensions)\n",
    "* No hay tuplas por comprensión, pues son inmutables. Utilizando la sintaxis equivalente se construye otro tipo de objetos denominados generadores"
   ]
  },
  {
   "cell_type": "code",
   "execution_count": 233,
   "metadata": {},
   "outputs": [
    {
     "data": {
      "text/plain": [
       "[0, 1, 4, 9, 16, 25, 36, 49, 64, 81]"
      ]
     },
     "execution_count": 233,
     "metadata": {},
     "output_type": "execute_result"
    }
   ],
   "source": [
    "[n ** 2 for n in range(10)] # lista definida por comprensión"
   ]
  },
  {
   "cell_type": "code",
   "execution_count": 234,
   "metadata": {},
   "outputs": [
    {
     "name": "stdout",
     "output_type": "stream",
     "text": [
      "Interactive namespace is empty.\n"
     ]
    }
   ],
   "source": [
    "%whos"
   ]
  },
  {
   "cell_type": "code",
   "execution_count": 235,
   "metadata": {},
   "outputs": [
    {
     "data": {
      "text/plain": [
       "[0, 4, 16, 36, 64]"
      ]
     },
     "execution_count": 235,
     "metadata": {},
     "output_type": "execute_result"
    }
   ],
   "source": [
    "[n ** 2 for n in range(10) if not n % 2] # lista definida por comprensión con condición"
   ]
  },
  {
   "cell_type": "code",
   "execution_count": 236,
   "metadata": {},
   "outputs": [
    {
     "name": "stdout",
     "output_type": "stream",
     "text": [
      "[('A', 'A'), ('A', 'B'), ('A', 'C'), ('A', 'D'), ('A', 'E'), ('B', 'B'), ('B', 'C'), ('B', 'D'), ('B', 'E'), ('C', 'C'), ('C', 'D'), ('C', 'E'), ('D', 'D'), ('D', 'E'), ('E', 'E')]\n"
     ]
    }
   ],
   "source": [
    "elementos = 'ABCDE' # Lista por comprensión anidade y condicionada\n",
    "pares    = [(elementos[a], elementos[b])\n",
    "            for a in range(len(elementos)) for b in range(a, len(elementos))]\n",
    "print(pares)"
   ]
  },
  {
   "cell_type": "code",
   "execution_count": 237,
   "metadata": {},
   "outputs": [
    {
     "name": "stdout",
     "output_type": "stream",
     "text": [
      "[('A', 'A'), ('A', 'B'), ('A', 'C'), ('A', 'D'), ('C', 'C'), ('C', 'D')]\n"
     ]
    }
   ],
   "source": [
    "pares    = [(elementos[a], elementos[b])\n",
    "            for a in range(len(elementos)) if not a % 2 for b in range(a, len(elementos)) if not b==4]\n",
    "print(pares)"
   ]
  },
  {
   "cell_type": "code",
   "execution_count": 238,
   "metadata": {},
   "outputs": [
    {
     "name": "stdout",
     "output_type": "stream",
     "text": [
      "[[0, 1, 2, 3, 4, 5, 6], [7, 8, 9, 10, 11, 12, 13], [14, 15, 16, 17, 18, 19, 20], [21, 22, 23, 24, 25, 26, 27], [28, 29, 30, 31, 32, 33, 34]]\n"
     ]
    }
   ],
   "source": [
    "l_a = [[ j*7+i for i in range(7)] for j in range(5)] # lista anidada definida por comprensión\n",
    "print(l_a)"
   ]
  },
  {
   "cell_type": "code",
   "execution_count": 239,
   "metadata": {},
   "outputs": [
    {
     "data": {
      "text/plain": [
       "[7, 8, 9, 10, 11, 12, 13]"
      ]
     },
     "execution_count": 239,
     "metadata": {},
     "output_type": "execute_result"
    }
   ],
   "source": [
    "l_a[1]"
   ]
  },
  {
   "cell_type": "code",
   "execution_count": 240,
   "metadata": {},
   "outputs": [
    {
     "data": {
      "text/plain": [
       "[13, 11, 9, 7]"
      ]
     },
     "execution_count": 240,
     "metadata": {},
     "output_type": "execute_result"
    }
   ],
   "source": [
    "l_a[1][::-2]"
   ]
  },
  {
   "cell_type": "code",
   "execution_count": 241,
   "metadata": {},
   "outputs": [
    {
     "data": {
      "text/plain": [
       "{0, 4, 16, 36, 64}"
      ]
     },
     "execution_count": 241,
     "metadata": {},
     "output_type": "execute_result"
    }
   ],
   "source": [
    "set(n ** 2 for n in range(10) if not n % 2) # conjunto definido por comprensión"
   ]
  },
  {
   "cell_type": "code",
   "execution_count": 242,
   "metadata": {},
   "outputs": [
    {
     "data": {
      "text/plain": [
       "{'A': 0, 'B': 1, 'C': 2, 'D': 3, 'E': 4}"
      ]
     },
     "execution_count": 242,
     "metadata": {},
     "output_type": "execute_result"
    }
   ],
   "source": [
    "{elementos[n]:n for n in range(len(elementos))} # diccionario definido por comprensión"
   ]
  },
  {
   "cell_type": "code",
   "execution_count": 243,
   "metadata": {},
   "outputs": [
    {
     "data": {
      "text/plain": [
       "[(0, 'A'), (1, 'B'), (2, 'C'), (3, 'D'), (4, 'E')]"
      ]
     },
     "execution_count": 243,
     "metadata": {},
     "output_type": "execute_result"
    }
   ],
   "source": [
    "list(enumerate(elementos))"
   ]
  },
  {
   "cell_type": "code",
   "execution_count": 244,
   "metadata": {},
   "outputs": [
    {
     "data": {
      "text/plain": [
       "{'A': 0, 'B': 1, 'C': 2, 'D': 3, 'E': 4}"
      ]
     },
     "execution_count": 244,
     "metadata": {},
     "output_type": "execute_result"
    }
   ],
   "source": [
    "{c: k for k, c in enumerate(elementos)}"
   ]
  },
  {
   "cell_type": "code",
   "execution_count": 245,
   "metadata": {},
   "outputs": [],
   "source": [
    "%reset -f"
   ]
  },
  {
   "cell_type": "markdown",
   "metadata": {},
   "source": [
    "## Organización del código\n",
    "\n",
    "* **Módulo**: cualquier fichero con extensión `.py`\n",
    "* **Paquete**: agrupación de módulos en una o varias carpetas. Una carpeta conteniendo un paquete suele tener un fichero `__init__.py` que así lo indica (obligatorio antes de Python 3.3)\n",
    "\n",
    "Un *script* es un módulo aislado y autosuficiente, que se ejecuta desde una *shell* o desde línea de comando\n",
    "\n",
    "* `python script.py [args]`\n",
    "* `ipython script.ipy [args]`\n",
    "\n",
    "Principio **DRY** (Don't Repeat Yourself):\n",
    "\n",
    "* **Funciones**: Bloques de código organizado y reutilizable, desarollado para una tarea concreta. Se almacenan en módulos.\n",
    "* **Librería**: <u>colección de funciones y objetos</u> que proporcionan funcionalidades para extender la capacidad del lenguaje. Una librería puede integrarse en un único módulo o en varios, dentro de un paquete.\n",
    "\n",
    "**Para utilizar componenetes de una librería es necesario importarlos antes**"
   ]
  },
  {
   "cell_type": "markdown",
   "metadata": {},
   "source": [
    "Un **espacio de nombres** (namespace) es una **correspondencia entre un cojunto de nombres y otro de objetos**. Por ejemplo:\n",
    "\n",
    "* **built-in mames** o nombres integrados por defecto y que siempre están accesibles\n",
    "* Nombres globales de un módulo\n",
    "* Nombres locales de una función\n",
    "\n",
    "Un espacio de nombres puede tener una estructura jerárquica, que se puede recorrer con el operador `.`, dando lugar a nombres cualificados:\n",
    "\n",
    "> espacio_raíz.nivel_1.nivel_2"
   ]
  },
  {
   "cell_type": "markdown",
   "metadata": {},
   "source": [
    "Un **contexto** (scope) es una región de un programa Python donde un espacio de nombres es directamente accesible. Esto significa que, dentro de un contexto, todo nombre no cualificado se busca en el espacio de nombres correspondiente. Hay cuatro contextos accesibles en Python:\n",
    "\n",
    "* **Contexto local** (local scope): contexto inmediato, con los nombres locales\n",
    "* **Contexto continente** (enclosing scope): contexto de funciones superiores contenedoras del códicgo actual. Consta de nombres que no son locales ni tampoco globales\n",
    "* **Contexto global** (global scope): contiene los nombres globales. `globals()' devuelve un diccionario con todos\n",
    "* **Contexto por defecto** (built-in scope): objetos inmediatamente accesibles con los que viene Python, tales como las funciones `print` o `abs`\n",
    "\n",
    "Cuando un nombre es referenciado, Python busca conforme a la regla **LEGB** (Local-Enclosing-Global-Built-in): (1) en el contexto global, (2) en los contextos de funciones desde las que se llama al código actual, (3) contexto global y (4) contexto por defecto. Si no se encuentra, Python muestra un error con una **excepción** `NameError`."
   ]
  },
  {
   "cell_type": "code",
   "execution_count": 246,
   "metadata": {},
   "outputs": [
    {
     "data": {
      "text/plain": [
       "{'__name__': '__main__',\n",
       " '__builtin__': <module 'builtins' (built-in)>,\n",
       " '__builtins__': <module 'builtins' (built-in)>,\n",
       " '_ih': ['',\n",
       "  'dir() # nombres definidos al inicio (no se incluyen bult-ins)',\n",
       "  \"get_ipython().run_line_magic('whos', '')\",\n",
       "  \"class Estudiante(object):\\n    def __init__(self, nombre):\\n        self.nombre = nombre\\n    def set_edad(self, edad):\\n        self.edad = edad\\n    def set_curso(self, curso):\\n        self.curso = curso\\n\\nalum1 = Estudiante('Pepe')\\nalum1.set_edad(21)\\nalum1.set_curso('Tercero')\",\n",
       "  'type(alum1)',\n",
       "  'alum1',\n",
       "  'print(alum1.nombre)\\nprint(alum1.edad)\\nprint(alum1.curso)',\n",
       "  \"class EstudianteMaster(Estudiante):\\n    def set_tfm(self, tfm):\\n        self.trabajo_fin_master = tfm\\n        \\nalum2 = EstudianteMaster('Marta')\\nalum2.set_edad(23)\\nalum2.set_curso('Segundo')\\nalum2.set_tfm('Ingeniería de datos con Python')\",\n",
       "  'type(alum2)',\n",
       "  'print(alum2.nombre)\\nprint(alum2.edad)\\nprint(alum2.curso)\\nprint(alum2.trabajo_fin_master)',\n",
       "  \"print('id1: ', id(alum1), '\\\\nid2: ', id(alum2))\",\n",
       "  \"alum1.nombre = 'Carlos'\\nalum1.edad   = 22\\nalum2.nombre = 'Lola'\\nalum2.edad   = 24\",\n",
       "  \"print(alum1.nombre, ' - ', alum1.edad, ' - ', alum1.curso)\\nprint(alum2.nombre, ' - ', alum2.edad, ' - ', alum2.curso , \\n      ' - ', alum2.trabajo_fin_master)\",\n",
       "  \"print('id1: ', id(alum1), '\\\\nid2: ', id(alum2))\",\n",
       "  'dir() # Nombres tras primeras operaciones',\n",
       "  \"get_ipython().run_line_magic('whos', '')\",\n",
       "  'del alum1, alum2',\n",
       "  'dir()',\n",
       "  \"get_ipython().run_line_magic('whos', '')\",\n",
       "  \"get_ipython().run_line_magic('reset', '-f')\",\n",
       "  'dir()',\n",
       "  \"get_ipython().run_line_magic('whos', '')\",\n",
       "  'a = 15\\nb = -7\\nc = a\\nd = int(15.1) # casting de flotante a entero',\n",
       "  \"print(type(a), 'id: ', id(a))\\nprint(type(b), 'id: ', id(b))\\nprint(type(c), 'id: ', id(c))\\nprint(type(d), 'id: ', id(d)) # Python puede asignar el mismo objeto que a u otro\",\n",
       "  'a + b # suma',\n",
       "  'b - a # resta',\n",
       "  'a * b # multiplicación',\n",
       "  'b ** a # potencia',\n",
       "  'pow(b,a) # potencia',\n",
       "  'a // b # división entera',\n",
       "  'a % b # Módulo o resto',\n",
       "  'a / b # división real',\n",
       "  'divmod(a,b) # devuelve tupla con división entera y resto',\n",
       "  '2 ** 1024 # posibilidad d etrabajar con grandes enteros',\n",
       "  'n_bin = 0b010101 # Literal binario\\nprint(n_bin)',\n",
       "  'bin(n_bin) # obtiene representación binaria en cadena',\n",
       "  'n_hex = 0xFF # literal hexadecimal\\nprint(n_hex)',\n",
       "  'hex(n_hex) # obtiene representación hexadecimal en cadena',\n",
       "  'n_oct = 0o100 # Literal octal',\n",
       "  'oct(n_oct) # obtiene representación octal en cadena',\n",
       "  \"int('125', base=6) # 125 base 6 a decimal \",\n",
       "  \"int('ff',base=16) # ff hexadecimal a base 10\",\n",
       "  \"int('0xff',base=16)\",\n",
       "  '0b10101010 | 0b01010101 # OR bit a bit. Opera en complemento a 2 con bit adicional de signo',\n",
       "  '0b10101010 & 0b01010101 # AND bit a bit. Opera en complemento a 2 con bit adicional de signo',\n",
       "  '0b10101010 ^ 0b01010101 # XOR bit a bit. Opera en complemento a 2 con bit adicional de signo',\n",
       "  '~0b10101010 # NOT bit a bit OJO con signo. \\n# Opera en complemento a 2 incluyendo infinitos bits de signo',\n",
       "  'bin(~0b10101010)',\n",
       "  '0b10101010 >> 1 # desplazamiento a la derecha de 1 bit. \\n# Opera en complemento a 2 incluyendo infinitos bits de signo',\n",
       "  '0b10101010 << 3 # desplazamiento a la izquierda de 3 bits\\n# Opera en complemento a 2 incluyendo infinitos bits de signo',\n",
       "  'print(type(True), type(False))',\n",
       "  'dir(True)',\n",
       "  'print(type(None))',\n",
       "  'bool(None)',\n",
       "  'int(True) # casting de booleano a entero',\n",
       "  'int(False) # casting de booleano a entero',\n",
       "  'bool(0) # casting de entero a booleano',\n",
       "  'bool(1) # casting de entero a booleano',\n",
       "  'bool(537) #todos los enteros distintos de 0 cero evalúan a True',\n",
       "  'bool(0.0) # casting de flotante a booleano',\n",
       "  'bool(7.3) # igual pasa con los flotantes',\n",
       "  'not True',\n",
       "  'True and True',\n",
       "  'False or True',\n",
       "  '1 + True',\n",
       "  '37 or False # upcasting del booleano',\n",
       "  '1 < 3 < 5 # comparación',\n",
       "  '1 !=3 or 5 == 5 # comparación combinada con operadores booleanos',\n",
       "  'import sys\\n\\nsys.float_info',\n",
       "  '3 * 0.1 - 0.3 # Error de aproximación!!!',\n",
       "  'pi = 3.141592\\n\\nprint(type(pi))',\n",
       "  'round(pi,2) # redondeo',\n",
       "  'dir(pi)',\n",
       "  'real_jima = 3.5 + 5.3j\\nprint(real_jima)\\nprint(type(real_jima))',\n",
       "  'dir(real_jima)',\n",
       "  'real_jima.real',\n",
       "  'real_jima.imag',\n",
       "  'real_jima.conjugate',\n",
       "  'real_jima.conjugate()',\n",
       "  \"get_ipython().run_line_magic('reset', '-f')\",\n",
       "  'str1 = \\'Esta es una cadena construída con comillas simples\\'\\nstr2 = \"Esta es una cadena construída con comillas dobles\"\\nstr3 = \\'\\'\\'Esta es una cadena construída con comillas triples,\\n... que se expande en dos líneas\\'\\'\\'\\nstr4 = \"\"\"Esta es otra cadena\\nconstruída con dobles comillas triples\\nexpandida en varias líneas\"\"\"',\n",
       "  'print(type(str1))',\n",
       "  'print(str3)',\n",
       "  'str4',\n",
       "  'print(str4)',\n",
       "  'len(str4) # logitud de la cadena: len() es una función por defecto (built-in)',\n",
       "  'str4[0] # indexando en posición 0, que es el primer carácter',\n",
       "  'str4[3] # indexando en posición 3, que es el cuarto carácter',\n",
       "  'str4[:5] # caracteres hasta posición 5-1',\n",
       "  'str4[5:] # caracteres desde posición 5',\n",
       "  'str4[5:12] # caracteres entre posiciones 5 y 12-1',\n",
       "  'str4[::3] # Todos los caracteres, saltando de tres en tres',\n",
       "  'rodaja = slice(0,len(str4),3)',\n",
       "  'str4[rodaja]',\n",
       "  'print(type(rodaja))',\n",
       "  '#str4[3] = \"q\" # No pueden cambiarse los contenidos, pues la cadena es inmutable',\n",
       "  'print(type(str4))',\n",
       "  'dir(str4)',\n",
       "  'str4.count(\"a\")',\n",
       "  'str4.index(\"a\")',\n",
       "  'str4.startswith(\"Esta\")',\n",
       "  'str4.endswith(\"líneas\")',\n",
       "  'str4[9:25].capitalize()',\n",
       "  'print(str4.title())',\n",
       "  'print(str4.upper())',\n",
       "  'print(str4.replace(\"a\",\"AAA\")) ',\n",
       "  'print(str4) # no se ha modificado la cadena, que es inmutable',\n",
       "  '\"a\" in str4 # test de pertenencia',\n",
       "  '\"W\" in str4',\n",
       "  'bool(\"\") # Las cadenas vacías evalúan a False',\n",
       "  'bool(\"False\") # Y todas las demás a True ',\n",
       "  's = \"áéíóú\"\\nprint(s)',\n",
       "  \"s_utf8 = s.encode('utf-8') # Codificación utf-8\\nprint(s_utf8)\",\n",
       "  'print(type(s_utf8))',\n",
       "  's_utf8[2]',\n",
       "  \"bt = b'Hola'\\nprint(bt)\\nprint(bt[0])\",\n",
       "  't = ()  # tupla vacía\\nprint(type(t))',\n",
       "  'tuple() # igual que ()',\n",
       "  'bool(()) # La tupla vacía evalúa a False',\n",
       "  't_1 = 25, # No hacen falta los paréntesis, pero sí la coma final si sólo hay un elemnto en la tupla \\nprint(t_1)',\n",
       "  't2 = 25, \"hola\" # tupla de dos objetos de clases diferentes\\nprint(t2)',\n",
       "  'len(t2) # logitud de la tupla',\n",
       "  'a, b = 15, -7\\nprint(a,b)',\n",
       "  'a, b = b, a  # intercambio de variables con asignación de tuplas. MUY HABITUAL con tuplas de cualquier longitud\\nprint(a,b)',\n",
       "  \"get_ipython().run_line_magic('reset', '-f')\",\n",
       "  '[] # lista vacía',\n",
       "  'list() # igual que []',\n",
       "  'bool([]) # La lista vacía evalúa a False',\n",
       "  'list((\"hola\", 2, 3, 4, \"adiós\")) # lista a partir de tupla',\n",
       "  'list(\"Hola\") # lista a partir de cadena',\n",
       "  'l_a = [1, 3, 5, 7, 9, 11, 13, 15]',\n",
       "  'print(type(l_a))\\nprint(id(l_a))',\n",
       "  'l_a.append(17)\\nprint(id(l_a))',\n",
       "  'l_a.extend([1,3,5])\\nprint(l_a)',\n",
       "  'len(l_a)',\n",
       "  'l_a.count(5)',\n",
       "  'l_a.index(1)',\n",
       "  'l_a.insert(0,25)\\nprint(l_a)',\n",
       "  'l_a.pop()',\n",
       "  'l_a',\n",
       "  'l_a.remove(1)\\nprint(l_a)',\n",
       "  'print(l_a)',\n",
       "  'l_a.reverse()\\nprint(l_a)',\n",
       "  'sorted(l_a)',\n",
       "  'l_a',\n",
       "  'min(l_a)',\n",
       "  'max(l_a)',\n",
       "  'sum(l_a)',\n",
       "  'l_a.sort()\\nprint(l_a)',\n",
       "  'l_a[2:10:2]',\n",
       "  'print(l_a)',\n",
       "  'del l_a[2:10:2] # eliminar rodaja o \"slice\"',\n",
       "  \"l_a+list('hola')\",\n",
       "  'l_a*2',\n",
       "  'bytearray() # bytearray vacío',\n",
       "  'bytearray(10) # byte array de ceros y longitud 10',\n",
       "  'bytearray([1,3,5])',\n",
       "  \"get_ipython().run_line_magic('reset', '-f')\",\n",
       "  'conjunto = set() # conjunto vacío',\n",
       "  'print(conjunto)',\n",
       "  'conjunto.add(1)',\n",
       "  'print(conjunto)',\n",
       "  'conjunto2 = set([1,3,5,7])',\n",
       "  'conjunto3 = {2,4,6}',\n",
       "  'conjunto2 | conjunto3  # Unión de conjuntos',\n",
       "  'conjunto | conjunto2  # Unión de conjuntos (no se repiten elementos)',\n",
       "  'conjunto & conjunto2 # Interesección de conjuntos',\n",
       "  'conjunto2 & conjunto3 # Interesección de conjuntos',\n",
       "  'conjunto2 - conjunto # Diferencia de conjuntos',\n",
       "  'conjunto -conjunto2',\n",
       "  'len(conjunto2) # cardinal del conjunto',\n",
       "  'conjunto2.remove(7)\\nprint(conjunto2)',\n",
       "  'dir(conjunto)',\n",
       "  'conjunto3 =frozenset([1,5])',\n",
       "  'conjunto2 | conjunto3',\n",
       "  'conjunto2 & conjunto3',\n",
       "  \"dic_a = dict(Nombre='Pepe',Apellido='Pérez')\",\n",
       "  'print(type(dic_a))',\n",
       "  'print(dic_a)',\n",
       "  'len(dic_a)',\n",
       "  \"dic_b = {'Nombre': 'Pepe', 'Apellido': 'Pérez'}\",\n",
       "  'print(dic_b)',\n",
       "  'print(id(dic_a))\\nprint(id(dic_b))',\n",
       "  'dic_a==dic_b',\n",
       "  'dic_a is dic_b',\n",
       "  \"'Nombre' in dic_b\",\n",
       "  \"dic_a['Apellido']\",\n",
       "  'dic_a.keys() # lista de claves',\n",
       "  'dic_a.values() # lista de valores',\n",
       "  'dic_a.items() # lista de tuplas (clave, valor)',\n",
       "  \"dic_a['Edad'] = 35\",\n",
       "  'print(dic_a)',\n",
       "  \"del dic_a['Edad'] # borrado de una entrada\",\n",
       "  'print(dic_a)',\n",
       "  'dic_a.clear()',\n",
       "  'print(dic_a)',\n",
       "  \"get_ipython().run_line_magic('reset', '-f')\",\n",
       "  \"sueldo = 10000\\n\\nif sueldo <= 25000:\\n    print('Sueldo bajo')\\nelif 25000 < sueldo <= 50000:\\n    print('Sueldo Medio')\\nelif 50000 < sueldo <=100000:\\n    print('Sueldo alto')\\nelse:\\n    print('¿Da el dinero la felicidad?')\",\n",
       "  \"'rico' if sueldo > 100000 else 'espero que feliz' # Operador ternario\",\n",
       "  \"print('rico' if sueldo > 100000 else 'espero que feliz')\",\n",
       "  'for num in [0,1,2,3,4]: # Iterando sobre una lista\\n    print(num)',\n",
       "  'for num in [0,1,2,3,4]: # Alterando el flujop con break y continue\\n    if num == 2:\\n        print(\\'Nos saltamos el 2\\')\\n        continue\\n    if num < 0:\\n        print(\\'Cualquier número negativo rompe el lazo\\')\\n        break\\n    print(num)\\nelse:\\n    print(\"Salida del lazo sin romperlo\")',\n",
       "  'for num in 0,1,2,3,4: # Iterando sobre una tupla\\n    print(num)',\n",
       "  \"for letra in 'Python': # Iterando sobre una cadena\\n    print(letra)\",\n",
       "  \"for nom in ['Pedro', 'María', 'Lola', 'Juan', 'Marta']: # Iterando sobre una lista de cadenas\\n    print(nom)\",\n",
       "  'for num in set([0,1,2,3,4]): # Iterando sobre un conjunto\\n    print(num)',\n",
       "  'dic = {\\'Nombre\\': \\'Pepe\\', \\'Apellido\\': \\'Pérez\\', \"Edad\": 35} # Iterando sobre un diccionario\\nfor entrada in  dic: # Iterando sobre un diccionario\\n    print(entrada, \\': \\', dic[entrada])',\n",
       "  'for key, val in  {\\'Nombre\\': \\'Pepe\\', \\'Apellido\\': \\'Pérez\\', \"Edad\": 35}.items(): # Iterando sobre un diccionario \\n    print(key + \": \" + str(val))',\n",
       "  \"for nom in ['Lola', 'Juan']: # Bucle anidado\\n    print(nom)\\n    for letra in nom:\\n        print(letra)\",\n",
       "  'print(type(iter(set([1,2,3]))))',\n",
       "  \"print(type(iter('hola')))\",\n",
       "  'iter_num = iter([0,1,2])\\nprint(type(iter_num))',\n",
       "  'iter_num.__next__()',\n",
       "  'iter_num.__next__()',\n",
       "  'iter_num.__next__()',\n",
       "  '# iter_num.__next__()',\n",
       "  'list(iter_num) # iterador agotado',\n",
       "  'iter_num = iter([0,1,2])\\nlist(iter_num)',\n",
       "  'list(iter_num)',\n",
       "  'rango = range(0,5,2)',\n",
       "  'print(type(rango))',\n",
       "  'rango',\n",
       "  'for num in rango:\\n    print(num)',\n",
       "  \"enum_nombres = enumerate( ['Pedro', 'María', 'Lola', 'Juan', 'Marta'])\",\n",
       "  'print(type(enum_nombres))',\n",
       "  'list(enum_nombres) # agota la enumeracoión. Ya no podemos utilizar el mismo objeto',\n",
       "  \"for ind, nom in enumerate( ['Pedro', 'María', 'Lola', 'Juan', 'Marta']):\\n    print(ind, nom)\",\n",
       "  \"zip_nom_edad = zip(['Pedro', 'María', 'Lola', 'Juan', 'Marta'], [30, 25, 45, 35], ['Madrid', 'Santa Cruz', 'Las Palmas'])\",\n",
       "  'print(type(zip_nom_edad))',\n",
       "  'list(zip_nom_edad)',\n",
       "  \"for nom, edad, ciudad in zip(['Pedro', 'María', 'Lola', 'Juan', 'Marta'], \\n                             [30, 25, 45, 35], ['Madrid', 'Santa Cruz', 'Las Palmas']):\\n    print(nom, edad, ciudad)\",\n",
       "  \"ind = 0 # cambiar para ver resultados\\nwhile ind <5:\\n    ind +=1\\n    if ind<0:\\n        print('No se admiten impresiones negativas')\\n        break\\n    if ind==3:\\n        print('Nos saltampos el 2')\\n        continue\\n    print(ind)\\nelse:\\n    print('Salida del lazo while sin romperlo')\",\n",
       "  \"get_ipython().run_line_magic('reset', '-f')\",\n",
       "  '[n ** 2 for n in range(10)] # lista definida por comprensión',\n",
       "  \"get_ipython().run_line_magic('whos', '')\",\n",
       "  '[n ** 2 for n in range(10) if not n % 2] # lista definida por comprensión con condición',\n",
       "  \"elementos = 'ABCDE' # Lista por comprensión anidade y condicionada\\npares    = [(elementos[a], elementos[b])\\n            for a in range(len(elementos)) for b in range(a, len(elementos))]\\nprint(pares)\",\n",
       "  'pares    = [(elementos[a], elementos[b])\\n            for a in range(len(elementos)) if not a % 2 for b in range(a, len(elementos)) if not b==4]\\nprint(pares)',\n",
       "  'l_a = [[ j*7+i for i in range(7)] for j in range(5)] # lista anidada definida por comprensión\\nprint(l_a)',\n",
       "  'l_a[1]',\n",
       "  'l_a[1][::-2]',\n",
       "  'set(n ** 2 for n in range(10) if not n % 2) # conjunto definido por comprensión',\n",
       "  '{elementos[n]:n for n in range(len(elementos))} # diccionario definido por comprensión',\n",
       "  'list(enumerate(elementos))',\n",
       "  '{c: k for k, c in enumerate(elementos)}',\n",
       "  \"get_ipython().run_line_magic('reset', '-f')\",\n",
       "  'globals()'],\n",
       " '_oh': {},\n",
       " '_dh': ['C:\\\\Users\\\\jruiz\\\\SWRepositories\\\\curso_itc\\\\python'],\n",
       " 'In': ['',\n",
       "  'dir() # nombres definidos al inicio (no se incluyen bult-ins)',\n",
       "  \"get_ipython().run_line_magic('whos', '')\",\n",
       "  \"class Estudiante(object):\\n    def __init__(self, nombre):\\n        self.nombre = nombre\\n    def set_edad(self, edad):\\n        self.edad = edad\\n    def set_curso(self, curso):\\n        self.curso = curso\\n\\nalum1 = Estudiante('Pepe')\\nalum1.set_edad(21)\\nalum1.set_curso('Tercero')\",\n",
       "  'type(alum1)',\n",
       "  'alum1',\n",
       "  'print(alum1.nombre)\\nprint(alum1.edad)\\nprint(alum1.curso)',\n",
       "  \"class EstudianteMaster(Estudiante):\\n    def set_tfm(self, tfm):\\n        self.trabajo_fin_master = tfm\\n        \\nalum2 = EstudianteMaster('Marta')\\nalum2.set_edad(23)\\nalum2.set_curso('Segundo')\\nalum2.set_tfm('Ingeniería de datos con Python')\",\n",
       "  'type(alum2)',\n",
       "  'print(alum2.nombre)\\nprint(alum2.edad)\\nprint(alum2.curso)\\nprint(alum2.trabajo_fin_master)',\n",
       "  \"print('id1: ', id(alum1), '\\\\nid2: ', id(alum2))\",\n",
       "  \"alum1.nombre = 'Carlos'\\nalum1.edad   = 22\\nalum2.nombre = 'Lola'\\nalum2.edad   = 24\",\n",
       "  \"print(alum1.nombre, ' - ', alum1.edad, ' - ', alum1.curso)\\nprint(alum2.nombre, ' - ', alum2.edad, ' - ', alum2.curso , \\n      ' - ', alum2.trabajo_fin_master)\",\n",
       "  \"print('id1: ', id(alum1), '\\\\nid2: ', id(alum2))\",\n",
       "  'dir() # Nombres tras primeras operaciones',\n",
       "  \"get_ipython().run_line_magic('whos', '')\",\n",
       "  'del alum1, alum2',\n",
       "  'dir()',\n",
       "  \"get_ipython().run_line_magic('whos', '')\",\n",
       "  \"get_ipython().run_line_magic('reset', '-f')\",\n",
       "  'dir()',\n",
       "  \"get_ipython().run_line_magic('whos', '')\",\n",
       "  'a = 15\\nb = -7\\nc = a\\nd = int(15.1) # casting de flotante a entero',\n",
       "  \"print(type(a), 'id: ', id(a))\\nprint(type(b), 'id: ', id(b))\\nprint(type(c), 'id: ', id(c))\\nprint(type(d), 'id: ', id(d)) # Python puede asignar el mismo objeto que a u otro\",\n",
       "  'a + b # suma',\n",
       "  'b - a # resta',\n",
       "  'a * b # multiplicación',\n",
       "  'b ** a # potencia',\n",
       "  'pow(b,a) # potencia',\n",
       "  'a // b # división entera',\n",
       "  'a % b # Módulo o resto',\n",
       "  'a / b # división real',\n",
       "  'divmod(a,b) # devuelve tupla con división entera y resto',\n",
       "  '2 ** 1024 # posibilidad d etrabajar con grandes enteros',\n",
       "  'n_bin = 0b010101 # Literal binario\\nprint(n_bin)',\n",
       "  'bin(n_bin) # obtiene representación binaria en cadena',\n",
       "  'n_hex = 0xFF # literal hexadecimal\\nprint(n_hex)',\n",
       "  'hex(n_hex) # obtiene representación hexadecimal en cadena',\n",
       "  'n_oct = 0o100 # Literal octal',\n",
       "  'oct(n_oct) # obtiene representación octal en cadena',\n",
       "  \"int('125', base=6) # 125 base 6 a decimal \",\n",
       "  \"int('ff',base=16) # ff hexadecimal a base 10\",\n",
       "  \"int('0xff',base=16)\",\n",
       "  '0b10101010 | 0b01010101 # OR bit a bit. Opera en complemento a 2 con bit adicional de signo',\n",
       "  '0b10101010 & 0b01010101 # AND bit a bit. Opera en complemento a 2 con bit adicional de signo',\n",
       "  '0b10101010 ^ 0b01010101 # XOR bit a bit. Opera en complemento a 2 con bit adicional de signo',\n",
       "  '~0b10101010 # NOT bit a bit OJO con signo. \\n# Opera en complemento a 2 incluyendo infinitos bits de signo',\n",
       "  'bin(~0b10101010)',\n",
       "  '0b10101010 >> 1 # desplazamiento a la derecha de 1 bit. \\n# Opera en complemento a 2 incluyendo infinitos bits de signo',\n",
       "  '0b10101010 << 3 # desplazamiento a la izquierda de 3 bits\\n# Opera en complemento a 2 incluyendo infinitos bits de signo',\n",
       "  'print(type(True), type(False))',\n",
       "  'dir(True)',\n",
       "  'print(type(None))',\n",
       "  'bool(None)',\n",
       "  'int(True) # casting de booleano a entero',\n",
       "  'int(False) # casting de booleano a entero',\n",
       "  'bool(0) # casting de entero a booleano',\n",
       "  'bool(1) # casting de entero a booleano',\n",
       "  'bool(537) #todos los enteros distintos de 0 cero evalúan a True',\n",
       "  'bool(0.0) # casting de flotante a booleano',\n",
       "  'bool(7.3) # igual pasa con los flotantes',\n",
       "  'not True',\n",
       "  'True and True',\n",
       "  'False or True',\n",
       "  '1 + True',\n",
       "  '37 or False # upcasting del booleano',\n",
       "  '1 < 3 < 5 # comparación',\n",
       "  '1 !=3 or 5 == 5 # comparación combinada con operadores booleanos',\n",
       "  'import sys\\n\\nsys.float_info',\n",
       "  '3 * 0.1 - 0.3 # Error de aproximación!!!',\n",
       "  'pi = 3.141592\\n\\nprint(type(pi))',\n",
       "  'round(pi,2) # redondeo',\n",
       "  'dir(pi)',\n",
       "  'real_jima = 3.5 + 5.3j\\nprint(real_jima)\\nprint(type(real_jima))',\n",
       "  'dir(real_jima)',\n",
       "  'real_jima.real',\n",
       "  'real_jima.imag',\n",
       "  'real_jima.conjugate',\n",
       "  'real_jima.conjugate()',\n",
       "  \"get_ipython().run_line_magic('reset', '-f')\",\n",
       "  'str1 = \\'Esta es una cadena construída con comillas simples\\'\\nstr2 = \"Esta es una cadena construída con comillas dobles\"\\nstr3 = \\'\\'\\'Esta es una cadena construída con comillas triples,\\n... que se expande en dos líneas\\'\\'\\'\\nstr4 = \"\"\"Esta es otra cadena\\nconstruída con dobles comillas triples\\nexpandida en varias líneas\"\"\"',\n",
       "  'print(type(str1))',\n",
       "  'print(str3)',\n",
       "  'str4',\n",
       "  'print(str4)',\n",
       "  'len(str4) # logitud de la cadena: len() es una función por defecto (built-in)',\n",
       "  'str4[0] # indexando en posición 0, que es el primer carácter',\n",
       "  'str4[3] # indexando en posición 3, que es el cuarto carácter',\n",
       "  'str4[:5] # caracteres hasta posición 5-1',\n",
       "  'str4[5:] # caracteres desde posición 5',\n",
       "  'str4[5:12] # caracteres entre posiciones 5 y 12-1',\n",
       "  'str4[::3] # Todos los caracteres, saltando de tres en tres',\n",
       "  'rodaja = slice(0,len(str4),3)',\n",
       "  'str4[rodaja]',\n",
       "  'print(type(rodaja))',\n",
       "  '#str4[3] = \"q\" # No pueden cambiarse los contenidos, pues la cadena es inmutable',\n",
       "  'print(type(str4))',\n",
       "  'dir(str4)',\n",
       "  'str4.count(\"a\")',\n",
       "  'str4.index(\"a\")',\n",
       "  'str4.startswith(\"Esta\")',\n",
       "  'str4.endswith(\"líneas\")',\n",
       "  'str4[9:25].capitalize()',\n",
       "  'print(str4.title())',\n",
       "  'print(str4.upper())',\n",
       "  'print(str4.replace(\"a\",\"AAA\")) ',\n",
       "  'print(str4) # no se ha modificado la cadena, que es inmutable',\n",
       "  '\"a\" in str4 # test de pertenencia',\n",
       "  '\"W\" in str4',\n",
       "  'bool(\"\") # Las cadenas vacías evalúan a False',\n",
       "  'bool(\"False\") # Y todas las demás a True ',\n",
       "  's = \"áéíóú\"\\nprint(s)',\n",
       "  \"s_utf8 = s.encode('utf-8') # Codificación utf-8\\nprint(s_utf8)\",\n",
       "  'print(type(s_utf8))',\n",
       "  's_utf8[2]',\n",
       "  \"bt = b'Hola'\\nprint(bt)\\nprint(bt[0])\",\n",
       "  't = ()  # tupla vacía\\nprint(type(t))',\n",
       "  'tuple() # igual que ()',\n",
       "  'bool(()) # La tupla vacía evalúa a False',\n",
       "  't_1 = 25, # No hacen falta los paréntesis, pero sí la coma final si sólo hay un elemnto en la tupla \\nprint(t_1)',\n",
       "  't2 = 25, \"hola\" # tupla de dos objetos de clases diferentes\\nprint(t2)',\n",
       "  'len(t2) # logitud de la tupla',\n",
       "  'a, b = 15, -7\\nprint(a,b)',\n",
       "  'a, b = b, a  # intercambio de variables con asignación de tuplas. MUY HABITUAL con tuplas de cualquier longitud\\nprint(a,b)',\n",
       "  \"get_ipython().run_line_magic('reset', '-f')\",\n",
       "  '[] # lista vacía',\n",
       "  'list() # igual que []',\n",
       "  'bool([]) # La lista vacía evalúa a False',\n",
       "  'list((\"hola\", 2, 3, 4, \"adiós\")) # lista a partir de tupla',\n",
       "  'list(\"Hola\") # lista a partir de cadena',\n",
       "  'l_a = [1, 3, 5, 7, 9, 11, 13, 15]',\n",
       "  'print(type(l_a))\\nprint(id(l_a))',\n",
       "  'l_a.append(17)\\nprint(id(l_a))',\n",
       "  'l_a.extend([1,3,5])\\nprint(l_a)',\n",
       "  'len(l_a)',\n",
       "  'l_a.count(5)',\n",
       "  'l_a.index(1)',\n",
       "  'l_a.insert(0,25)\\nprint(l_a)',\n",
       "  'l_a.pop()',\n",
       "  'l_a',\n",
       "  'l_a.remove(1)\\nprint(l_a)',\n",
       "  'print(l_a)',\n",
       "  'l_a.reverse()\\nprint(l_a)',\n",
       "  'sorted(l_a)',\n",
       "  'l_a',\n",
       "  'min(l_a)',\n",
       "  'max(l_a)',\n",
       "  'sum(l_a)',\n",
       "  'l_a.sort()\\nprint(l_a)',\n",
       "  'l_a[2:10:2]',\n",
       "  'print(l_a)',\n",
       "  'del l_a[2:10:2] # eliminar rodaja o \"slice\"',\n",
       "  \"l_a+list('hola')\",\n",
       "  'l_a*2',\n",
       "  'bytearray() # bytearray vacío',\n",
       "  'bytearray(10) # byte array de ceros y longitud 10',\n",
       "  'bytearray([1,3,5])',\n",
       "  \"get_ipython().run_line_magic('reset', '-f')\",\n",
       "  'conjunto = set() # conjunto vacío',\n",
       "  'print(conjunto)',\n",
       "  'conjunto.add(1)',\n",
       "  'print(conjunto)',\n",
       "  'conjunto2 = set([1,3,5,7])',\n",
       "  'conjunto3 = {2,4,6}',\n",
       "  'conjunto2 | conjunto3  # Unión de conjuntos',\n",
       "  'conjunto | conjunto2  # Unión de conjuntos (no se repiten elementos)',\n",
       "  'conjunto & conjunto2 # Interesección de conjuntos',\n",
       "  'conjunto2 & conjunto3 # Interesección de conjuntos',\n",
       "  'conjunto2 - conjunto # Diferencia de conjuntos',\n",
       "  'conjunto -conjunto2',\n",
       "  'len(conjunto2) # cardinal del conjunto',\n",
       "  'conjunto2.remove(7)\\nprint(conjunto2)',\n",
       "  'dir(conjunto)',\n",
       "  'conjunto3 =frozenset([1,5])',\n",
       "  'conjunto2 | conjunto3',\n",
       "  'conjunto2 & conjunto3',\n",
       "  \"dic_a = dict(Nombre='Pepe',Apellido='Pérez')\",\n",
       "  'print(type(dic_a))',\n",
       "  'print(dic_a)',\n",
       "  'len(dic_a)',\n",
       "  \"dic_b = {'Nombre': 'Pepe', 'Apellido': 'Pérez'}\",\n",
       "  'print(dic_b)',\n",
       "  'print(id(dic_a))\\nprint(id(dic_b))',\n",
       "  'dic_a==dic_b',\n",
       "  'dic_a is dic_b',\n",
       "  \"'Nombre' in dic_b\",\n",
       "  \"dic_a['Apellido']\",\n",
       "  'dic_a.keys() # lista de claves',\n",
       "  'dic_a.values() # lista de valores',\n",
       "  'dic_a.items() # lista de tuplas (clave, valor)',\n",
       "  \"dic_a['Edad'] = 35\",\n",
       "  'print(dic_a)',\n",
       "  \"del dic_a['Edad'] # borrado de una entrada\",\n",
       "  'print(dic_a)',\n",
       "  'dic_a.clear()',\n",
       "  'print(dic_a)',\n",
       "  \"get_ipython().run_line_magic('reset', '-f')\",\n",
       "  \"sueldo = 10000\\n\\nif sueldo <= 25000:\\n    print('Sueldo bajo')\\nelif 25000 < sueldo <= 50000:\\n    print('Sueldo Medio')\\nelif 50000 < sueldo <=100000:\\n    print('Sueldo alto')\\nelse:\\n    print('¿Da el dinero la felicidad?')\",\n",
       "  \"'rico' if sueldo > 100000 else 'espero que feliz' # Operador ternario\",\n",
       "  \"print('rico' if sueldo > 100000 else 'espero que feliz')\",\n",
       "  'for num in [0,1,2,3,4]: # Iterando sobre una lista\\n    print(num)',\n",
       "  'for num in [0,1,2,3,4]: # Alterando el flujop con break y continue\\n    if num == 2:\\n        print(\\'Nos saltamos el 2\\')\\n        continue\\n    if num < 0:\\n        print(\\'Cualquier número negativo rompe el lazo\\')\\n        break\\n    print(num)\\nelse:\\n    print(\"Salida del lazo sin romperlo\")',\n",
       "  'for num in 0,1,2,3,4: # Iterando sobre una tupla\\n    print(num)',\n",
       "  \"for letra in 'Python': # Iterando sobre una cadena\\n    print(letra)\",\n",
       "  \"for nom in ['Pedro', 'María', 'Lola', 'Juan', 'Marta']: # Iterando sobre una lista de cadenas\\n    print(nom)\",\n",
       "  'for num in set([0,1,2,3,4]): # Iterando sobre un conjunto\\n    print(num)',\n",
       "  'dic = {\\'Nombre\\': \\'Pepe\\', \\'Apellido\\': \\'Pérez\\', \"Edad\": 35} # Iterando sobre un diccionario\\nfor entrada in  dic: # Iterando sobre un diccionario\\n    print(entrada, \\': \\', dic[entrada])',\n",
       "  'for key, val in  {\\'Nombre\\': \\'Pepe\\', \\'Apellido\\': \\'Pérez\\', \"Edad\": 35}.items(): # Iterando sobre un diccionario \\n    print(key + \": \" + str(val))',\n",
       "  \"for nom in ['Lola', 'Juan']: # Bucle anidado\\n    print(nom)\\n    for letra in nom:\\n        print(letra)\",\n",
       "  'print(type(iter(set([1,2,3]))))',\n",
       "  \"print(type(iter('hola')))\",\n",
       "  'iter_num = iter([0,1,2])\\nprint(type(iter_num))',\n",
       "  'iter_num.__next__()',\n",
       "  'iter_num.__next__()',\n",
       "  'iter_num.__next__()',\n",
       "  '# iter_num.__next__()',\n",
       "  'list(iter_num) # iterador agotado',\n",
       "  'iter_num = iter([0,1,2])\\nlist(iter_num)',\n",
       "  'list(iter_num)',\n",
       "  'rango = range(0,5,2)',\n",
       "  'print(type(rango))',\n",
       "  'rango',\n",
       "  'for num in rango:\\n    print(num)',\n",
       "  \"enum_nombres = enumerate( ['Pedro', 'María', 'Lola', 'Juan', 'Marta'])\",\n",
       "  'print(type(enum_nombres))',\n",
       "  'list(enum_nombres) # agota la enumeracoión. Ya no podemos utilizar el mismo objeto',\n",
       "  \"for ind, nom in enumerate( ['Pedro', 'María', 'Lola', 'Juan', 'Marta']):\\n    print(ind, nom)\",\n",
       "  \"zip_nom_edad = zip(['Pedro', 'María', 'Lola', 'Juan', 'Marta'], [30, 25, 45, 35], ['Madrid', 'Santa Cruz', 'Las Palmas'])\",\n",
       "  'print(type(zip_nom_edad))',\n",
       "  'list(zip_nom_edad)',\n",
       "  \"for nom, edad, ciudad in zip(['Pedro', 'María', 'Lola', 'Juan', 'Marta'], \\n                             [30, 25, 45, 35], ['Madrid', 'Santa Cruz', 'Las Palmas']):\\n    print(nom, edad, ciudad)\",\n",
       "  \"ind = 0 # cambiar para ver resultados\\nwhile ind <5:\\n    ind +=1\\n    if ind<0:\\n        print('No se admiten impresiones negativas')\\n        break\\n    if ind==3:\\n        print('Nos saltampos el 2')\\n        continue\\n    print(ind)\\nelse:\\n    print('Salida del lazo while sin romperlo')\",\n",
       "  \"get_ipython().run_line_magic('reset', '-f')\",\n",
       "  '[n ** 2 for n in range(10)] # lista definida por comprensión',\n",
       "  \"get_ipython().run_line_magic('whos', '')\",\n",
       "  '[n ** 2 for n in range(10) if not n % 2] # lista definida por comprensión con condición',\n",
       "  \"elementos = 'ABCDE' # Lista por comprensión anidade y condicionada\\npares    = [(elementos[a], elementos[b])\\n            for a in range(len(elementos)) for b in range(a, len(elementos))]\\nprint(pares)\",\n",
       "  'pares    = [(elementos[a], elementos[b])\\n            for a in range(len(elementos)) if not a % 2 for b in range(a, len(elementos)) if not b==4]\\nprint(pares)',\n",
       "  'l_a = [[ j*7+i for i in range(7)] for j in range(5)] # lista anidada definida por comprensión\\nprint(l_a)',\n",
       "  'l_a[1]',\n",
       "  'l_a[1][::-2]',\n",
       "  'set(n ** 2 for n in range(10) if not n % 2) # conjunto definido por comprensión',\n",
       "  '{elementos[n]:n for n in range(len(elementos))} # diccionario definido por comprensión',\n",
       "  'list(enumerate(elementos))',\n",
       "  '{c: k for k, c in enumerate(elementos)}',\n",
       "  \"get_ipython().run_line_magic('reset', '-f')\",\n",
       "  'globals()'],\n",
       " 'Out': {},\n",
       " 'get_ipython': <bound method InteractiveShell.get_ipython of <ipykernel.zmqshell.ZMQInteractiveShell object at 0x000001BB30125B38>>,\n",
       " 'exit': <IPython.core.autocall.ZMQExitAutocall at 0x1bb30188128>,\n",
       " 'quit': <IPython.core.autocall.ZMQExitAutocall at 0x1bb30188128>,\n",
       " '_i': '%reset -f',\n",
       " '_ii': '{c: k for k, c in enumerate(elementos)}',\n",
       " '_iii': 'list(enumerate(elementos))',\n",
       " '_i246': 'globals()'}"
      ]
     },
     "execution_count": 246,
     "metadata": {},
     "output_type": "execute_result"
    }
   ],
   "source": [
    "globals()"
   ]
  },
  {
   "cell_type": "code",
   "execution_count": 247,
   "metadata": {},
   "outputs": [
    {
     "name": "stdout",
     "output_type": "stream",
     "text": [
      "__main__\n"
     ]
    }
   ],
   "source": [
    "# Variable global __name__ muestra nombre del módulo\n",
    "# __main__ es la shell de trabajo\n",
    "print(__name__)"
   ]
  },
  {
   "cell_type": "code",
   "execution_count": 248,
   "metadata": {},
   "outputs": [
    {
     "name": "stdout",
     "output_type": "stream",
     "text": [
      "Writing helloWorld.py\n"
     ]
    }
   ],
   "source": [
    "%%writefile helloWorld.py\n",
    "\n",
    "print(\"Nombre del módulo:\" + __name__)\n",
    "\n",
    "if __name__== \"__main__\":\n",
    "    print(\"Módulo llamado desde línea de comando\")\n",
    "else:\n",
    "    print(\"Módulo importado\")\n",
    "\n",
    "print(\"Hello World\")"
   ]
  },
  {
   "cell_type": "code",
   "execution_count": 249,
   "metadata": {},
   "outputs": [
    {
     "name": "stdout",
     "output_type": "stream",
     "text": [
      "Nombre del módulo:__main__\n",
      "Módulo llamado desde línea de comando\n",
      "Hello World\n"
     ]
    }
   ],
   "source": [
    "%run helloWorld"
   ]
  },
  {
   "cell_type": "markdown",
   "metadata": {},
   "source": [
    "### Funciones\n",
    "\n",
    "Mediante varios ejemplos se ilustra:\n",
    "\n",
    "* Las funciones son objetos\n",
    "* Devuelven un valor o tupla de valores salvo que no haya cláusula `return`, en cuyo caso devuelven `None`\n",
    "* Contextos de funciones contenidas unas dentro de otras\n",
    "* Definición con argumentos posicionales y con nombre, con número fijo y variable\n",
    "* Introducción a las técnicas de memoización\n",
    "* Funciones anónimas o lambdas"
   ]
  },
  {
   "cell_type": "code",
   "execution_count": 250,
   "metadata": {},
   "outputs": [],
   "source": [
    "def func_1():\n",
    "    test  = 1 # objeto definido en contexto local\n",
    "    print('Mi módulo es ', __name__)\n",
    "    print(\"En func_1, test = \", test)\n",
    "    print(dir())"
   ]
  },
  {
   "cell_type": "code",
   "execution_count": 251,
   "metadata": {},
   "outputs": [
    {
     "name": "stdout",
     "output_type": "stream",
     "text": [
      "<class 'function'>\n"
     ]
    }
   ],
   "source": [
    "print(type(func_1))"
   ]
  },
  {
   "cell_type": "code",
   "execution_count": 252,
   "metadata": {},
   "outputs": [
    {
     "name": "stdout",
     "output_type": "stream",
     "text": [
      "Mi módulo es  __main__\n",
      "En func_1, test =  1\n",
      "['test']\n"
     ]
    }
   ],
   "source": [
    "mi_nueva_func = func_1 # Las funciones son objetos, y se les puede asignar nuevos nombres para referenciarlas\n",
    "mi_nueva_func()"
   ]
  },
  {
   "cell_type": "code",
   "execution_count": 253,
   "metadata": {},
   "outputs": [
    {
     "name": "stdout",
     "output_type": "stream",
     "text": [
      "Mi módulo es  __main__\n",
      "En func_1, test =  1\n",
      "['test']\n",
      "En contexto global, test =  0\n"
     ]
    }
   ],
   "source": [
    "test = 0 # objeto definido en contexto global\n",
    "\n",
    "func_1()\n",
    "print('En contexto global, test = ', test)"
   ]
  },
  {
   "cell_type": "code",
   "execution_count": 254,
   "metadata": {},
   "outputs": [
    {
     "name": "stdout",
     "output_type": "stream",
     "text": [
      "Variable        Type        Data/Info\n",
      "-------------------------------------\n",
      "func_1          function    <function func_1 at 0x000001BB3026FA60>\n",
      "mi_nueva_func   function    <function func_1 at 0x000001BB3026FA60>\n",
      "test            int         0\n"
     ]
    }
   ],
   "source": [
    "%whos"
   ]
  },
  {
   "cell_type": "code",
   "execution_count": 255,
   "metadata": {},
   "outputs": [],
   "source": [
    "%reset -f"
   ]
  },
  {
   "cell_type": "code",
   "execution_count": 256,
   "metadata": {},
   "outputs": [
    {
     "name": "stdout",
     "output_type": "stream",
     "text": [
      "En f_interna, test =  2\n",
      "Mi módulo es  __main__\n",
      "['test']\n",
      "En f_externa, test =  1\n",
      "Mi módulo es  __main__\n",
      "['f_interna', 'test']\n",
      "En contexto global, test =  0\n"
     ]
    },
    {
     "data": {
      "text/plain": [
       "['In',\n",
       " 'Out',\n",
       " '__builtin__',\n",
       " '__builtins__',\n",
       " '__name__',\n",
       " '_dh',\n",
       " '_i',\n",
       " '_i256',\n",
       " '_ih',\n",
       " '_ii',\n",
       " '_iii',\n",
       " '_oh',\n",
       " 'exit',\n",
       " 'f_externa',\n",
       " 'get_ipython',\n",
       " 'quit',\n",
       " 'test']"
      ]
     },
     "execution_count": 256,
     "metadata": {},
     "output_type": "execute_result"
    }
   ],
   "source": [
    "def f_externa():\n",
    "    test = 1 \n",
    "    \n",
    "    def f_interna():\n",
    "        test = 2\n",
    "        print('En f_interna, test = ', test)\n",
    "        print('Mi módulo es ', __name__)\n",
    "        print(dir())\n",
    "    \n",
    "    f_interna()\n",
    "    print('En f_externa, test = ', test)\n",
    "    print('Mi módulo es ', __name__)\n",
    "    print(dir())\n",
    "\n",
    "test = 0\n",
    "f_externa()\n",
    "print('En contexto global, test = ', test)\n",
    "dir()"
   ]
  },
  {
   "cell_type": "code",
   "execution_count": 257,
   "metadata": {},
   "outputs": [],
   "source": [
    "%reset -f"
   ]
  },
  {
   "cell_type": "code",
   "execution_count": 258,
   "metadata": {},
   "outputs": [
    {
     "name": "stdout",
     "output_type": "stream",
     "text": [
      "En f_interna, test =  0\n",
      "[]\n",
      "En f_externa, test =  0\n",
      "['f_interna']\n",
      "En contexto global, test =  0\n"
     ]
    }
   ],
   "source": [
    "def f_externa(): # jugar con los comentarios para examinar los contextos y la toma de valores de test\n",
    "   ### test = 1 \n",
    "    \n",
    "    def f_interna():\n",
    "    ###    test = 2\n",
    "        print('En f_interna, test = ', test)\n",
    "        print(dir())\n",
    "    \n",
    "    f_interna()\n",
    "    print('En f_externa, test = ', test)\n",
    "    print(dir())\n",
    "\n",
    "test = 0\n",
    "f_externa()\n",
    "print('En contexto global, test = ', test)\n",
    "#dir()"
   ]
  },
  {
   "cell_type": "code",
   "execution_count": 259,
   "metadata": {},
   "outputs": [],
   "source": [
    "%reset -f"
   ]
  },
  {
   "cell_type": "code",
   "execution_count": 260,
   "metadata": {},
   "outputs": [
    {
     "name": "stdout",
     "output_type": "stream",
     "text": [
      "En f_interna, test =  2\n",
      "['test']\n",
      "En f_externa, test =  2\n",
      "['f_interna', 'test']\n",
      "En contexto global, test =  0\n"
     ]
    }
   ],
   "source": [
    "def f_externa(): # Evitar sombreado de definiciones en contextos interiores\n",
    "    test = 1 \n",
    "    \n",
    "    def f_interna():\n",
    "        nonlocal test\n",
    "        test = 2\n",
    "        print('En f_interna, test = ', test)\n",
    "        print(dir())\n",
    "    \n",
    "    f_interna()\n",
    "    print('En f_externa, test = ', test)\n",
    "    print(dir())\n",
    "\n",
    "test = 0\n",
    "f_externa()\n",
    "print('En contexto global, test = ', test)\n",
    "#dir()"
   ]
  },
  {
   "cell_type": "code",
   "execution_count": 261,
   "metadata": {},
   "outputs": [
    {
     "name": "stdout",
     "output_type": "stream",
     "text": [
      "En f_interna, test =  2\n",
      "[]\n",
      "En f_externa, test =  1\n",
      "['f_interna', 'test']\n",
      "En contexto global, test =  2\n"
     ]
    }
   ],
   "source": [
    "def f_externa(): # Alterar el contexto global desde el interior\n",
    "    test = 1 \n",
    "    \n",
    "    def f_interna():\n",
    "        global test\n",
    "        test = 2\n",
    "        print('En f_interna, test = ', test)\n",
    "        print(dir())\n",
    "    \n",
    "    f_interna()\n",
    "    print('En f_externa, test = ', test)\n",
    "    print(dir())\n",
    "\n",
    "test = 0\n",
    "f_externa()\n",
    "print('En contexto global, test = ', test)\n",
    "#dir()"
   ]
  },
  {
   "cell_type": "code",
   "execution_count": 262,
   "metadata": {},
   "outputs": [],
   "source": [
    "%reset -f"
   ]
  },
  {
   "cell_type": "code",
   "execution_count": 263,
   "metadata": {},
   "outputs": [
    {
     "name": "stdout",
     "output_type": "stream",
     "text": [
      "1 2 3\n",
      "['a', 'b', 'c']\n"
     ]
    }
   ],
   "source": [
    "# Definición de una función con argumentos posicionales\n",
    "def func(a, b, c):\n",
    "    print(a, b, c)\n",
    "    print(dir())\n",
    "\n",
    "func(1, 2, 3)"
   ]
  },
  {
   "cell_type": "code",
   "execution_count": 264,
   "metadata": {},
   "outputs": [
    {
     "name": "stdout",
     "output_type": "stream",
     "text": [
      "1 3 5\n",
      "['a', 'b', 'c']\n"
     ]
    }
   ],
   "source": [
    "# Llamando los argumentos por sus nombres (keyword arguments) sin repstar posiciones\n",
    "func(c=5, a=1, b=3)"
   ]
  },
  {
   "cell_type": "code",
   "execution_count": 265,
   "metadata": {},
   "outputs": [],
   "source": [
    "%reset -f"
   ]
  },
  {
   "cell_type": "code",
   "execution_count": 266,
   "metadata": {},
   "outputs": [
    {
     "name": "stdout",
     "output_type": "stream",
     "text": [
      "1 2 30 40\n",
      "['a', 'b', 'c', 'd']\n",
      "1 2 3 4\n",
      "['a', 'b', 'c', 'd']\n",
      "1 2 50 100\n",
      "['a', 'b', 'c', 'd']\n"
     ]
    }
   ],
   "source": [
    "# Definición de una función con argumentos con valores por defecto\n",
    "# Siempre tienen que ir a la derecha de los argumebtos posicionales\n",
    "def func(a, b, c=30, d=40):\n",
    "    print(a, b, c, d)\n",
    "    print(dir())\n",
    "\n",
    "func(1, 2)\n",
    "func(1,2,3,4)\n",
    "func(1,2,d=100,c=50)"
   ]
  },
  {
   "cell_type": "code",
   "execution_count": 267,
   "metadata": {},
   "outputs": [],
   "source": [
    "%reset -f"
   ]
  },
  {
   "cell_type": "code",
   "execution_count": 268,
   "metadata": {},
   "outputs": [
    {
     "name": "stdout",
     "output_type": "stream",
     "text": [
      "(1, 2, 3)\n",
      "Número de argumentos:  3\n",
      "['args']\n",
      "((1, 2, 3),)\n",
      "Número de argumentos:  1\n",
      "['args']\n",
      "(1, 2, 3)\n",
      "Número de argumentos:  3\n",
      "['args']\n",
      "('H', 'o', 'l', 'a')\n",
      "Número de argumentos:  4\n",
      "['args']\n",
      "('Hola', 'Adiós')\n",
      "Número de argumentos:  2\n",
      "['args']\n",
      "('H', 'o', 'l', 'a', 'A', 'd', 'i', 'ó', 's')\n",
      "Número de argumentos:  9\n",
      "['args']\n",
      "([1, 2, 3], [4, 5, 6])\n",
      "Número de argumentos:  2\n",
      "['args']\n",
      "(1, 2, 3, [4, 5, 6])\n",
      "Número de argumentos:  4\n",
      "['args']\n",
      "Función llamada sin argumentos\n",
      "()\n",
      "Número de argumentos:  0\n",
      "['args']\n"
     ]
    }
   ],
   "source": [
    "# Función definida con número variable de argumentos posicionales\n",
    "def func(*args):\n",
    "    if not args:\n",
    "        print('Función llamada sin argumentos')\n",
    "    print(args)\n",
    "    print('Número de argumentos: ', len(args))\n",
    "    print(dir())\n",
    "\n",
    "func(1,2,3)\n",
    "func((1,2,3))\n",
    "func(*(1,2,3)) # desempaquetado de argumentos\n",
    "func(*'Hola') # Otro ejemplo de despaquetado de argumentos\n",
    "func('Hola', 'Adiós')\n",
    "func(*'Hola', *'Adiós')\n",
    "func([1,2,3],[4,5,6])\n",
    "func(*[1,2,3],[4,5,6])\n",
    "func()"
   ]
  },
  {
   "cell_type": "code",
   "execution_count": 269,
   "metadata": {},
   "outputs": [],
   "source": [
    "%reset -f"
   ]
  },
  {
   "cell_type": "code",
   "execution_count": 270,
   "metadata": {},
   "outputs": [
    {
     "name": "stdout",
     "output_type": "stream",
     "text": [
      "{'a': 1, 'b': 2, 'c': 3}\n",
      "Número de argumentos:  3\n",
      "['kwargs']\n",
      "Función llamada sin argumentos\n",
      "{}\n",
      "Número de argumentos:  0\n",
      "['kwargs']\n"
     ]
    }
   ],
   "source": [
    "# Función definida con número variable de argumentos con nombre\n",
    "def func(**kwargs):\n",
    "    if not kwargs:\n",
    "        print('Función llamada sin argumentos')\n",
    "    print(kwargs)\n",
    "    print('Número de argumentos: ', len(kwargs))\n",
    "    print(dir())\n",
    "\n",
    "func(a=1, b=2, c=3)\n",
    "func()"
   ]
  },
  {
   "cell_type": "code",
   "execution_count": 271,
   "metadata": {},
   "outputs": [],
   "source": [
    "%reset -f"
   ]
  },
  {
   "cell_type": "code",
   "execution_count": 272,
   "metadata": {},
   "outputs": [
    {
     "name": "stdout",
     "output_type": "stream",
     "text": [
      "[]\n",
      "['a']\n",
      "[5]\n",
      "['a']\n",
      "[5, 5]\n",
      "['a']\n"
     ]
    }
   ],
   "source": [
    "# Memoización y alteración de parámetros de clases mutables\n",
    "def func(a=[]):\n",
    "    print(a)\n",
    "    a.append(5)\n",
    "    print(dir())\n",
    "    \n",
    "func()\n",
    "func()\n",
    "func()"
   ]
  },
  {
   "cell_type": "code",
   "execution_count": 273,
   "metadata": {},
   "outputs": [
    {
     "name": "stdout",
     "output_type": "stream",
     "text": [
      "[]\n",
      "['a']\n",
      "[]\n",
      "['a']\n",
      "[]\n",
      "['a']\n"
     ]
    }
   ],
   "source": [
    "# EL efecto indeseado de la alteración de los valores por defecto con clases mutables puede resolverse\n",
    "def func(a=None):\n",
    "    if a==None:\n",
    "        a=[]\n",
    "    print(a)\n",
    "    a.append(5)\n",
    "    print(dir())\n",
    "\n",
    "func()\n",
    "func()\n",
    "func()"
   ]
  },
  {
   "cell_type": "code",
   "execution_count": 274,
   "metadata": {},
   "outputs": [
    {
     "name": "stdout",
     "output_type": "stream",
     "text": [
      "[3]\n",
      "['a']\n",
      "[3, 5]\n",
      "['a']\n",
      "[3, 5, 5]\n",
      "['a']\n"
     ]
    }
   ],
   "source": [
    "# Memoización y alteración de parámetros de clases mutables\n",
    "a = [3]\n",
    "func(a)\n",
    "func(a)\n",
    "func(a)"
   ]
  },
  {
   "cell_type": "code",
   "execution_count": 275,
   "metadata": {},
   "outputs": [],
   "source": [
    "%reset -f"
   ]
  },
  {
   "cell_type": "code",
   "execution_count": 276,
   "metadata": {},
   "outputs": [
    {
     "name": "stdout",
     "output_type": "stream",
     "text": [
      "<class 'NoneType'>\n",
      "None\n"
     ]
    }
   ],
   "source": [
    "# Las funciones que no devuelven expresamente un resultado, devuelven un objeto None\n",
    "def fun_1():\n",
    "    pass\n",
    "\n",
    "print(type(fun_1()))\n",
    "print(fun_1())"
   ]
  },
  {
   "cell_type": "code",
   "execution_count": 277,
   "metadata": {},
   "outputs": [
    {
     "name": "stdout",
     "output_type": "stream",
     "text": [
      "([1, 2, 3], 'Hasta luego')\n",
      "[1, 2, 3] Hasta luego\n"
     ]
    }
   ],
   "source": [
    "# las funciones pueden devolver uno o varios resultados, en este caso con una tupla\n",
    "def fun_2():\n",
    "    return [1,2,3], 'Hasta luego'\n",
    "\n",
    "print(fun_2())\n",
    "\n",
    "r_1, r_2 = fun_2() # Desepaquetado de tupla\n",
    "\n",
    "print(r_1, r_2)"
   ]
  },
  {
   "cell_type": "code",
   "execution_count": 278,
   "metadata": {},
   "outputs": [],
   "source": [
    "%reset -f"
   ]
  },
  {
   "cell_type": "code",
   "execution_count": 279,
   "metadata": {},
   "outputs": [
    {
     "name": "stdout",
     "output_type": "stream",
     "text": [
      "<class 'function'>\n",
      "3\n"
     ]
    }
   ],
   "source": [
    "# Funciones anónimas o lambdas\n",
    "a, b = 1,2\n",
    "\n",
    "f_lambda = lambda arg1, arg2: arg1 + arg2\n",
    "\n",
    "print(type(f_lambda))\n",
    "\n",
    "print(f_lambda(a,b))"
   ]
  },
  {
   "cell_type": "code",
   "execution_count": 280,
   "metadata": {},
   "outputs": [],
   "source": [
    "%reset -f"
   ]
  },
  {
   "cell_type": "code",
   "execution_count": 281,
   "metadata": {},
   "outputs": [
    {
     "name": "stdout",
     "output_type": "stream",
     "text": [
      "<class 'map'>\n"
     ]
    }
   ],
   "source": [
    "# Función map -> Devuelve un objeto de clase map\n",
    "# Aplica la misma función a todos los elementos del iterable\n",
    "\n",
    "print(type(map(lambda k: k**2, range(5))))"
   ]
  },
  {
   "cell_type": "code",
   "execution_count": 282,
   "metadata": {},
   "outputs": [
    {
     "data": {
      "text/plain": [
       "[0, 1, 4, 9, 16]"
      ]
     },
     "execution_count": 282,
     "metadata": {},
     "output_type": "execute_result"
    }
   ],
   "source": [
    "list(map(lambda k: k**2, range(5)))"
   ]
  },
  {
   "cell_type": "code",
   "execution_count": 283,
   "metadata": {},
   "outputs": [
    {
     "name": "stdout",
     "output_type": "stream",
     "text": [
      "<class 'filter'>\n"
     ]
    }
   ],
   "source": [
    "# Función filter -> Devuelve un objeto de clase filter\n",
    "# Se queda con los elemntos que evalúen a True la función\n",
    "# si la función es None se entiende que es la función identidad\n",
    "\n",
    "print(type(filter(lambda k: k%2, range(5))))"
   ]
  },
  {
   "cell_type": "code",
   "execution_count": 284,
   "metadata": {},
   "outputs": [
    {
     "data": {
      "text/plain": [
       "[1, 3]"
      ]
     },
     "execution_count": 284,
     "metadata": {},
     "output_type": "execute_result"
    }
   ],
   "source": [
    "list(filter(lambda k: k%2, range(5)))"
   ]
  },
  {
   "cell_type": "code",
   "execution_count": 285,
   "metadata": {},
   "outputs": [
    {
     "data": {
      "text/plain": [
       "[1, 2, 3, 4]"
      ]
     },
     "execution_count": 285,
     "metadata": {},
     "output_type": "execute_result"
    }
   ],
   "source": [
    "list(filter(None, range(5))) # elimina el 0, pues evalúa a False"
   ]
  },
  {
   "cell_type": "code",
   "execution_count": 286,
   "metadata": {},
   "outputs": [],
   "source": [
    "%reset -f"
   ]
  },
  {
   "cell_type": "markdown",
   "metadata": {},
   "source": [
    "### Importación de objetos y módulos\n",
    "\n",
    "La forma más habitual de importar objetos en el espacio de nombres actual es como sigue:\n",
    "\n",
    "* `import nombre_módulo`\n",
    "* `import nombre_módulo as nuevo_nombre`\n",
    "* `from nombre_módulo import objeto`\n",
    "* `from nombre_módulo import objeto as nuevo_nombre`\n",
    "\n",
    "Recuérdese que los módulos son también objetos.\n",
    "\n",
    "Al importarse un módulo, se ejecuta una única vez. Las siguientes importaciones no lo ejecutan, de modo que para ello habría que reiniciar el kernel o explícitamente reimportar el módulo como sigue:\n",
    "```\n",
    "import importlib\n",
    "importlib.reload(módulo_a_reimportar)\n",
    "```"
   ]
  },
  {
   "cell_type": "code",
   "execution_count": 287,
   "metadata": {},
   "outputs": [
    {
     "name": "stdout",
     "output_type": "stream",
     "text": [
      "Overwriting helloWorld.py\n"
     ]
    }
   ],
   "source": [
    "%%writefile helloWorld.py\n",
    "\n",
    "print(\"Nombre del módulo:\" + __name__)\n",
    "\n",
    "if __name__== \"__main__\":\n",
    "    print(\"Módulo llamado desde línea de comando\")\n",
    "else:\n",
    "    print(\"Módulo importado\")\n",
    "    \n",
    "print(\"Hello World\")"
   ]
  },
  {
   "cell_type": "code",
   "execution_count": 288,
   "metadata": {},
   "outputs": [
    {
     "name": "stdout",
     "output_type": "stream",
     "text": [
      "Nombre del módulo:__main__\n",
      "Módulo llamado desde línea de comando\n",
      "Hello World\n"
     ]
    }
   ],
   "source": [
    "%run helloWorld.py"
   ]
  },
  {
   "cell_type": "code",
   "execution_count": 289,
   "metadata": {},
   "outputs": [
    {
     "name": "stdout",
     "output_type": "stream",
     "text": [
      "Nombre del módulo:helloWorld\n",
      "Módulo importado\n",
      "Hello World\n"
     ]
    }
   ],
   "source": [
    "import helloWorld"
   ]
  },
  {
   "cell_type": "code",
   "execution_count": 290,
   "metadata": {},
   "outputs": [
    {
     "name": "stdout",
     "output_type": "stream",
     "text": [
      "Nombre del módulo:helloWorld\n",
      "Módulo importado\n",
      "Hello World\n"
     ]
    },
    {
     "data": {
      "text/plain": [
       "<module 'helloWorld' from 'C:\\\\Users\\\\jruiz\\\\SWRepositories\\\\curso_itc\\\\python\\\\helloWorld.py'>"
      ]
     },
     "execution_count": 290,
     "metadata": {},
     "output_type": "execute_result"
    }
   ],
   "source": [
    "import importlib\n",
    "importlib.reload(helloWorld)"
   ]
  },
  {
   "cell_type": "code",
   "execution_count": 291,
   "metadata": {},
   "outputs": [],
   "source": [
    "%reset -f"
   ]
  },
  {
   "cell_type": "code",
   "execution_count": 292,
   "metadata": {},
   "outputs": [
    {
     "name": "stdout",
     "output_type": "stream",
     "text": [
      "The Zen of Python, by Tim Peters\n",
      "\n",
      "Beautiful is better than ugly.\n",
      "Explicit is better than implicit.\n",
      "Simple is better than complex.\n",
      "Complex is better than complicated.\n",
      "Flat is better than nested.\n",
      "Sparse is better than dense.\n",
      "Readability counts.\n",
      "Special cases aren't special enough to break the rules.\n",
      "Although practicality beats purity.\n",
      "Errors should never pass silently.\n",
      "Unless explicitly silenced.\n",
      "In the face of ambiguity, refuse the temptation to guess.\n",
      "There should be one-- and preferably only one --obvious way to do it.\n",
      "Although that way may not be obvious at first unless you're Dutch.\n",
      "Now is better than never.\n",
      "Although never is often better than *right* now.\n",
      "If the implementation is hard to explain, it's a bad idea.\n",
      "If the implementation is easy to explain, it may be a good idea.\n",
      "Namespaces are one honking great idea -- let's do more of those!\n"
     ]
    }
   ],
   "source": [
    "import this"
   ]
  },
  {
   "cell_type": "code",
   "execution_count": 293,
   "metadata": {},
   "outputs": [
    {
     "data": {
      "text/plain": [
       "<module 'this' from 'C:\\\\Users\\\\jruiz\\\\Anaconda3\\\\lib\\\\this.py'>"
      ]
     },
     "execution_count": 293,
     "metadata": {},
     "output_type": "execute_result"
    }
   ],
   "source": [
    "this"
   ]
  },
  {
   "cell_type": "code",
   "execution_count": 294,
   "metadata": {},
   "outputs": [
    {
     "data": {
      "text/plain": [
       "['__builtins__',\n",
       " '__cached__',\n",
       " '__doc__',\n",
       " '__file__',\n",
       " '__loader__',\n",
       " '__name__',\n",
       " '__package__',\n",
       " '__spec__',\n",
       " 'c',\n",
       " 'd',\n",
       " 'i',\n",
       " 's']"
      ]
     },
     "execution_count": 294,
     "metadata": {},
     "output_type": "execute_result"
    }
   ],
   "source": [
    "dir(this)"
   ]
  },
  {
   "cell_type": "code",
   "execution_count": 295,
   "metadata": {},
   "outputs": [
    {
     "data": {
      "text/plain": [
       "'this'"
      ]
     },
     "execution_count": 295,
     "metadata": {},
     "output_type": "execute_result"
    }
   ],
   "source": [
    "this.__name__"
   ]
  },
  {
   "cell_type": "code",
   "execution_count": 296,
   "metadata": {},
   "outputs": [
    {
     "data": {
      "text/plain": [
       "'C:\\\\Users\\\\jruiz\\\\Anaconda3\\\\lib\\\\this.py'"
      ]
     },
     "execution_count": 296,
     "metadata": {},
     "output_type": "execute_result"
    }
   ],
   "source": [
    "this.__file__"
   ]
  },
  {
   "cell_type": "code",
   "execution_count": 297,
   "metadata": {},
   "outputs": [],
   "source": [
    "import this # no vuelve a imprimirse"
   ]
  },
  {
   "cell_type": "code",
   "execution_count": 298,
   "metadata": {},
   "outputs": [],
   "source": [
    "%reset -f"
   ]
  },
  {
   "cell_type": "code",
   "execution_count": 299,
   "metadata": {},
   "outputs": [],
   "source": [
    "# Objetos por defecto (built-ins)\n",
    "import builtins"
   ]
  },
  {
   "cell_type": "code",
   "execution_count": 300,
   "metadata": {},
   "outputs": [
    {
     "data": {
      "text/plain": [
       "'builtins'"
      ]
     },
     "execution_count": 300,
     "metadata": {},
     "output_type": "execute_result"
    }
   ],
   "source": [
    "builtins.__name__"
   ]
  },
  {
   "cell_type": "code",
   "execution_count": 301,
   "metadata": {},
   "outputs": [
    {
     "data": {
      "text/plain": [
       "['ArithmeticError',\n",
       " 'AssertionError',\n",
       " 'AttributeError',\n",
       " 'BaseException',\n",
       " 'BlockingIOError',\n",
       " 'BrokenPipeError',\n",
       " 'BufferError',\n",
       " 'BytesWarning',\n",
       " 'ChildProcessError',\n",
       " 'ConnectionAbortedError',\n",
       " 'ConnectionError',\n",
       " 'ConnectionRefusedError',\n",
       " 'ConnectionResetError',\n",
       " 'DeprecationWarning',\n",
       " 'EOFError',\n",
       " 'Ellipsis',\n",
       " 'EnvironmentError',\n",
       " 'Exception',\n",
       " 'False',\n",
       " 'FileExistsError',\n",
       " 'FileNotFoundError',\n",
       " 'FloatingPointError',\n",
       " 'FutureWarning',\n",
       " 'GeneratorExit',\n",
       " 'IOError',\n",
       " 'ImportError',\n",
       " 'ImportWarning',\n",
       " 'IndentationError',\n",
       " 'IndexError',\n",
       " 'InterruptedError',\n",
       " 'IsADirectoryError',\n",
       " 'KeyError',\n",
       " 'KeyboardInterrupt',\n",
       " 'LookupError',\n",
       " 'MemoryError',\n",
       " 'ModuleNotFoundError',\n",
       " 'NameError',\n",
       " 'None',\n",
       " 'NotADirectoryError',\n",
       " 'NotImplemented',\n",
       " 'NotImplementedError',\n",
       " 'OSError',\n",
       " 'OverflowError',\n",
       " 'PendingDeprecationWarning',\n",
       " 'PermissionError',\n",
       " 'ProcessLookupError',\n",
       " 'RecursionError',\n",
       " 'ReferenceError',\n",
       " 'ResourceWarning',\n",
       " 'RuntimeError',\n",
       " 'RuntimeWarning',\n",
       " 'StopAsyncIteration',\n",
       " 'StopIteration',\n",
       " 'SyntaxError',\n",
       " 'SyntaxWarning',\n",
       " 'SystemError',\n",
       " 'SystemExit',\n",
       " 'TabError',\n",
       " 'TimeoutError',\n",
       " 'True',\n",
       " 'TypeError',\n",
       " 'UnboundLocalError',\n",
       " 'UnicodeDecodeError',\n",
       " 'UnicodeEncodeError',\n",
       " 'UnicodeError',\n",
       " 'UnicodeTranslateError',\n",
       " 'UnicodeWarning',\n",
       " 'UserWarning',\n",
       " 'ValueError',\n",
       " 'Warning',\n",
       " 'WindowsError',\n",
       " 'ZeroDivisionError',\n",
       " '__IPYTHON__',\n",
       " '__build_class__',\n",
       " '__debug__',\n",
       " '__doc__',\n",
       " '__import__',\n",
       " '__loader__',\n",
       " '__name__',\n",
       " '__package__',\n",
       " '__spec__',\n",
       " 'abs',\n",
       " 'all',\n",
       " 'any',\n",
       " 'ascii',\n",
       " 'bin',\n",
       " 'bool',\n",
       " 'breakpoint',\n",
       " 'bytearray',\n",
       " 'bytes',\n",
       " 'callable',\n",
       " 'chr',\n",
       " 'classmethod',\n",
       " 'compile',\n",
       " 'complex',\n",
       " 'copyright',\n",
       " 'credits',\n",
       " 'delattr',\n",
       " 'dict',\n",
       " 'dir',\n",
       " 'display',\n",
       " 'divmod',\n",
       " 'enumerate',\n",
       " 'eval',\n",
       " 'exec',\n",
       " 'filter',\n",
       " 'float',\n",
       " 'format',\n",
       " 'frozenset',\n",
       " 'get_ipython',\n",
       " 'getattr',\n",
       " 'globals',\n",
       " 'hasattr',\n",
       " 'hash',\n",
       " 'help',\n",
       " 'hex',\n",
       " 'id',\n",
       " 'input',\n",
       " 'int',\n",
       " 'isinstance',\n",
       " 'issubclass',\n",
       " 'iter',\n",
       " 'len',\n",
       " 'license',\n",
       " 'list',\n",
       " 'locals',\n",
       " 'map',\n",
       " 'max',\n",
       " 'memoryview',\n",
       " 'min',\n",
       " 'next',\n",
       " 'object',\n",
       " 'oct',\n",
       " 'open',\n",
       " 'ord',\n",
       " 'pow',\n",
       " 'print',\n",
       " 'property',\n",
       " 'range',\n",
       " 'repr',\n",
       " 'reversed',\n",
       " 'round',\n",
       " 'set',\n",
       " 'setattr',\n",
       " 'slice',\n",
       " 'sorted',\n",
       " 'staticmethod',\n",
       " 'str',\n",
       " 'sum',\n",
       " 'super',\n",
       " 'tuple',\n",
       " 'type',\n",
       " 'vars',\n",
       " 'zip']"
      ]
     },
     "execution_count": 301,
     "metadata": {},
     "output_type": "execute_result"
    }
   ],
   "source": [
    "dir(builtins)"
   ]
  },
  {
   "cell_type": "code",
   "execution_count": 302,
   "metadata": {},
   "outputs": [],
   "source": [
    "%reset -f"
   ]
  },
  {
   "cell_type": "code",
   "execution_count": 303,
   "metadata": {},
   "outputs": [],
   "source": [
    "import math"
   ]
  },
  {
   "cell_type": "code",
   "execution_count": 304,
   "metadata": {},
   "outputs": [
    {
     "data": {
      "text/plain": [
       "['__doc__',\n",
       " '__loader__',\n",
       " '__name__',\n",
       " '__package__',\n",
       " '__spec__',\n",
       " 'acos',\n",
       " 'acosh',\n",
       " 'asin',\n",
       " 'asinh',\n",
       " 'atan',\n",
       " 'atan2',\n",
       " 'atanh',\n",
       " 'ceil',\n",
       " 'copysign',\n",
       " 'cos',\n",
       " 'cosh',\n",
       " 'degrees',\n",
       " 'e',\n",
       " 'erf',\n",
       " 'erfc',\n",
       " 'exp',\n",
       " 'expm1',\n",
       " 'fabs',\n",
       " 'factorial',\n",
       " 'floor',\n",
       " 'fmod',\n",
       " 'frexp',\n",
       " 'fsum',\n",
       " 'gamma',\n",
       " 'gcd',\n",
       " 'hypot',\n",
       " 'inf',\n",
       " 'isclose',\n",
       " 'isfinite',\n",
       " 'isinf',\n",
       " 'isnan',\n",
       " 'ldexp',\n",
       " 'lgamma',\n",
       " 'log',\n",
       " 'log10',\n",
       " 'log1p',\n",
       " 'log2',\n",
       " 'modf',\n",
       " 'nan',\n",
       " 'pi',\n",
       " 'pow',\n",
       " 'radians',\n",
       " 'remainder',\n",
       " 'sin',\n",
       " 'sinh',\n",
       " 'sqrt',\n",
       " 'tan',\n",
       " 'tanh',\n",
       " 'tau',\n",
       " 'trunc']"
      ]
     },
     "execution_count": 304,
     "metadata": {},
     "output_type": "execute_result"
    }
   ],
   "source": [
    "dir(math)"
   ]
  },
  {
   "cell_type": "code",
   "execution_count": 305,
   "metadata": {},
   "outputs": [
    {
     "name": "stdout",
     "output_type": "stream",
     "text": [
      "3.141592653589793\n"
     ]
    }
   ],
   "source": [
    "print(math.pi)"
   ]
  },
  {
   "cell_type": "code",
   "execution_count": 306,
   "metadata": {},
   "outputs": [],
   "source": [
    "%reset -f"
   ]
  },
  {
   "cell_type": "markdown",
   "metadata": {},
   "source": [
    "## La librería estándar de Python\n",
    "\n",
    "Es conveniente darle un vistazo y consultar cuando se neecsiten funcionalidades no incluidas por defecto (built-ins) la librería estándar:\n",
    "\n",
    "https://docs.python.org/3/library/index.html"
   ]
  }
 ],
 "metadata": {
  "kernelspec": {
   "display_name": "Python 3",
   "language": "python",
   "name": "python3"
  },
  "language_info": {
   "codemirror_mode": {
    "name": "ipython",
    "version": 3
   },
   "file_extension": ".py",
   "mimetype": "text/x-python",
   "name": "python",
   "nbconvert_exporter": "python",
   "pygments_lexer": "ipython3",
   "version": "3.7.2"
  }
 },
 "nbformat": 4,
 "nbformat_minor": 2
}
